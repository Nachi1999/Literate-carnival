{
 "cells": [
  {
   "cell_type": "markdown",
   "metadata": {},
   "source": [
    "<Data Analysis of Job Applicants>"
   ]
  },
  {
   "cell_type": "markdown",
   "metadata": {},
   "source": [
    "# Data Analysis of Teaching Job Applications to Hallmark High College"
   ]
  },
  {
   "cell_type": "markdown",
   "metadata": {},
   "source": [
    "This Notebook aims to explore and filter only teaching job applications from 100 data entries of job applications. At the end of this analysis, the daunting task of going through each teaching job application for critical review is greatly minimized. This is not an indepth analysis. It's merely an analytical filtering process to reduce the amount of time spent reviewing multiple applicants for the same job. The entered data is only as accurate as the level of explicity identified in the curriculum vitae of the applicants. \n",
    "\n",
    "Not everything documented in the CV of applicants could be included in this dataset (e.g, volunteer experience, professional qualification, professional certificate, extra curricular activities, achievments and awards e.t.c).\n",
    "\n",
    "Also, each applicant is unique to the office applied for regardless of their name. What this means is that a single person applying for two or more different posts is treated as a unique entry for each post, regardless of their qualifications. This gives the analysis more variability in terms of consistent tendencies.\n",
    "\n",
    "**Definition of key Features**\n",
    "1. TED (Teaching Experience Duration): *How long have you taught(Teaching Job application)*\n",
    "2. TEP(Teaching Experience Position): *What position(s) have you held while teaching(Teaching job applications)*\n",
    "3. Current position: *Till date position of employment*\n",
    "4. Job hopping: *How many times have you left a job(Teaching and Non-Teaching in less than 3 years (0-2)*\n",
    "5. Academic Qualification (A-qual): *Academic Degrees obtained from higher institution*\n",
    "6. Office Applied: *General term for job post*\n",
    "\n",
    "NOTE:\n",
    "1. Not every applicant's CV provided complete information."
   ]
  },
  {
   "cell_type": "code",
   "execution_count": 1,
   "metadata": {},
   "outputs": [
    {
     "name": "stdout",
     "output_type": "stream",
     "text": [
      "Requirement already satisfied: xlrd in c:\\users\\nachi\\anaconda3\\lib\\site-packages (1.2.0)\n"
     ]
    }
   ],
   "source": [
    "#setup libraries\n",
    "!pip install xlrd\n",
    "import pandas as pd\n",
    "from pandas import Series\n",
    "import numpy as np\n",
    "import matplotlib.pyplot as plt"
   ]
  },
  {
   "cell_type": "code",
   "execution_count": 2,
   "metadata": {},
   "outputs": [
    {
     "data": {
      "text/plain": [
       "array(['Name', 'Age', 'Gender', 'Nationality', 'Marital Status',\n",
       "       'Office applied', 'Academic qualification',\n",
       "       'WED/TED (Work Experience Duration/Teaching Experience Duration)',\n",
       "       'WEP/TEP(Work Experience Position/Teaching Experience Position)',\n",
       "       'Current position', 'Job hopping', 'Job-Type', 'Phone Number',\n",
       "       'E-mail'], dtype=object)"
      ]
     },
     "execution_count": 2,
     "metadata": {},
     "output_type": "execute_result"
    }
   ],
   "source": [
    "df = pd.read_excel('Hallmark secondary School.xlsx')\n",
    "df.columns.values"
   ]
  },
  {
   "cell_type": "code",
   "execution_count": 3,
   "metadata": {},
   "outputs": [
    {
     "data": {
      "text/plain": [
       "array(['Name', 'Age', 'Gender', 'Nationality', 'Marital Status',\n",
       "       'Office applied', 'A-qual', 'TED', 'TEP', 'Current position',\n",
       "       'Job hopping', 'Job-Type', 'Phone Number', 'E-mail'], dtype=object)"
      ]
     },
     "execution_count": 3,
     "metadata": {},
     "output_type": "execute_result"
    }
   ],
   "source": [
    "#renaming the columns\n",
    "df.rename(columns = {'Academic qualification':'A-qual',\n",
    "                     'WED/TED (Work Experience Duration/Teaching Experience Duration)': 'TED',\n",
    "                    'WEP/TEP(Work Experience Position/Teaching Experience Position)':'TEP'}, inplace = True)\n",
    "df.columns.values"
   ]
  },
  {
   "cell_type": "markdown",
   "metadata": {},
   "source": [
    "#### Introductory Analysis \n"
   ]
  },
  {
   "cell_type": "code",
   "execution_count": 4,
   "metadata": {},
   "outputs": [
    {
     "data": {
      "text/plain": [
       "(100, 14)"
      ]
     },
     "execution_count": 4,
     "metadata": {},
     "output_type": "execute_result"
    }
   ],
   "source": [
    "df.shape"
   ]
  },
  {
   "cell_type": "markdown",
   "metadata": {},
   "source": [
    "There are 100 rows meaning 100 total applicants for various job positions. There are 14 columns which represent the features."
   ]
  },
  {
   "cell_type": "code",
   "execution_count": 5,
   "metadata": {},
   "outputs": [
    {
     "data": {
      "text/plain": [
       "Teaching        60\n",
       "Non-Teaching    40\n",
       "Name: Job-Type, dtype: int64"
      ]
     },
     "execution_count": 5,
     "metadata": {},
     "output_type": "execute_result"
    }
   ],
   "source": [
    "df['Job-Type'].value_counts()"
   ]
  },
  {
   "cell_type": "markdown",
   "metadata": {},
   "source": [
    "There are 60 applicants that applied for a Teaching job and 40 that applied for a non Teaching job. The teaching job is what we are interested in."
   ]
  },
  {
   "cell_type": "code",
   "execution_count": 6,
   "metadata": {},
   "outputs": [
    {
     "data": {
      "text/plain": [
       "Teaching    60\n",
       "Name: Job-Type, dtype: int64"
      ]
     },
     "execution_count": 6,
     "metadata": {},
     "output_type": "execute_result"
    }
   ],
   "source": [
    "df_teach = df[df['Job-Type'].isin(['Teaching'])].reset_index(drop = True)\n",
    "df_teach['Job-Type'].value_counts()"
   ]
  },
  {
   "cell_type": "markdown",
   "metadata": {},
   "source": [
    "60 applicants applied for a teaching job"
   ]
  },
  {
   "cell_type": "code",
   "execution_count": 7,
   "metadata": {},
   "outputs": [
    {
     "data": {
      "text/plain": [
       "array(['Vice Principal', 'Principal ', 'Yoruba Teacher', 'Teaching Staff',\n",
       "       'Mathematics Teacher', 'Basic Science Teacher',\n",
       "       'Civic Education Teacher', 'Business Studies Teacher',\n",
       "       'Music Instructor', 'English Language Teacher',\n",
       "       'Home Economics Teacher', 'C.R.S Teacher', 'Commerce Teacher',\n",
       "       'I.R.S Teacher', 'French Teacher',\n",
       "       'Cultural and Creative Arts Teacher', 'Basic Technology Teacher',\n",
       "       'Computer Science Teacher'], dtype=object)"
      ]
     },
     "execution_count": 7,
     "metadata": {},
     "output_type": "execute_result"
    }
   ],
   "source": [
    "df_teach['Office applied'].unique()"
   ]
  },
  {
   "cell_type": "markdown",
   "metadata": {},
   "source": [
    "These are the unique offices applied for. Do note that a Teaching job-type includes the Principal and Vice Principal's office."
   ]
  },
  {
   "cell_type": "code",
   "execution_count": 8,
   "metadata": {},
   "outputs": [
    {
     "data": {
      "text/plain": [
       "18"
      ]
     },
     "execution_count": 8,
     "metadata": {},
     "output_type": "execute_result"
    }
   ],
   "source": [
    "len(df_teach['Office applied'].unique())"
   ]
  },
  {
   "cell_type": "markdown",
   "metadata": {},
   "source": [
    "The 60 applicants applied for 18 unique job posts."
   ]
  },
  {
   "cell_type": "markdown",
   "metadata": {},
   "source": [
    "**Nationality Check**"
   ]
  },
  {
   "cell_type": "code",
   "execution_count": 9,
   "metadata": {},
   "outputs": [
    {
     "data": {
      "text/plain": [
       "Nigerian    60\n",
       "Name: Nationality, dtype: int64"
      ]
     },
     "execution_count": 9,
     "metadata": {},
     "output_type": "execute_result"
    }
   ],
   "source": [
    "df_teach.Nationality.value_counts()"
   ]
  },
  {
   "cell_type": "code",
   "execution_count": 10,
   "metadata": {},
   "outputs": [
    {
     "name": "stdout",
     "output_type": "stream",
     "text": [
      "60 applicants have their Gender stated\n",
      "60 applicants have their Nationality stated\n",
      "42 applicants have their Marital Status stated\n",
      "57 applicants have their TED stated\n",
      "57 applicants have their Job hopping stated\n"
     ]
    }
   ],
   "source": [
    "for i in (df_teach['Gender'], df_teach['Nationality'], df_teach['Marital Status'], df_teach['TED'], df_teach['Job hopping']):\n",
    "    Not_stated = len(i[i != 'Not Stated'])\n",
    "    print (Not_stated, \"applicants have their\", i.name, \"stated\")"
   ]
  },
  {
   "cell_type": "code",
   "execution_count": 11,
   "metadata": {},
   "outputs": [
    {
     "name": "stdout",
     "output_type": "stream",
     "text": [
      "[38 35 30 37 23 29 36 50 32 34 41 26 39 33  0 40 25 48 31 51] \n",
      "There are 20 unique ages\n"
     ]
    }
   ],
   "source": [
    "print (df_teach.Age.unique(), \"\\nThere are\", len(df_teach.Age.unique()), \"unique ages\")"
   ]
  },
  {
   "cell_type": "markdown",
   "metadata": {},
   "source": [
    "An age of 0 (zero) represents applicants that did not explicitly state their age in their CV's."
   ]
  },
  {
   "cell_type": "code",
   "execution_count": 12,
   "metadata": {},
   "outputs": [
    {
     "name": "stdout",
     "output_type": "stream",
     "text": [
      "There are 50 Job applicants with their ages included in their CVs\n"
     ]
    }
   ],
   "source": [
    "age = df_teach['Age']\n",
    "new_age = age[age != 0]\n",
    "number = list(new_age.index)\n",
    "print('There are', len(number), 'Job applicants with their ages included in their CVs')"
   ]
  },
  {
   "cell_type": "markdown",
   "metadata": {},
   "source": [
    "### 1. Basic Demographic Analysis (BDA)"
   ]
  },
  {
   "cell_type": "markdown",
   "metadata": {},
   "source": [
    "The basic demographic analysis of a Teaching Job type would be based on age, gender, marital Status, office applied and current position."
   ]
  },
  {
   "cell_type": "code",
   "execution_count": 13,
   "metadata": {},
   "outputs": [
    {
     "data": {
      "text/plain": [
       "Male      50\n",
       "Female    10\n",
       "Name: Gender, dtype: int64"
      ]
     },
     "execution_count": 13,
     "metadata": {},
     "output_type": "execute_result"
    }
   ],
   "source": [
    "df_teach.Gender.value_counts()"
   ]
  },
  {
   "cell_type": "code",
   "execution_count": 14,
   "metadata": {},
   "outputs": [
    {
     "data": {
      "text/plain": [
       "Single        25\n",
       "Not Stated    18\n",
       "Married       17\n",
       "Name: Marital Status, dtype: int64"
      ]
     },
     "execution_count": 14,
     "metadata": {},
     "output_type": "execute_result"
    }
   ],
   "source": [
    "df_teach['Marital Status'].value_counts()"
   ]
  },
  {
   "cell_type": "code",
   "execution_count": 15,
   "metadata": {},
   "outputs": [
    {
     "data": {
      "text/html": [
       "<div>\n",
       "<style scoped>\n",
       "    .dataframe tbody tr th:only-of-type {\n",
       "        vertical-align: middle;\n",
       "    }\n",
       "\n",
       "    .dataframe tbody tr th {\n",
       "        vertical-align: top;\n",
       "    }\n",
       "\n",
       "    .dataframe thead th {\n",
       "        text-align: right;\n",
       "    }\n",
       "</style>\n",
       "<table border=\"1\" class=\"dataframe\">\n",
       "  <thead>\n",
       "    <tr style=\"text-align: right;\">\n",
       "      <th></th>\n",
       "      <th>Age</th>\n",
       "      <th>Office applied</th>\n",
       "      <th>Current position</th>\n",
       "      <th>Job-Type</th>\n",
       "    </tr>\n",
       "  </thead>\n",
       "  <tbody>\n",
       "    <tr>\n",
       "      <td>count</td>\n",
       "      <td>60.000000</td>\n",
       "      <td>60</td>\n",
       "      <td>60</td>\n",
       "      <td>60</td>\n",
       "    </tr>\n",
       "    <tr>\n",
       "      <td>unique</td>\n",
       "      <td>NaN</td>\n",
       "      <td>18</td>\n",
       "      <td>28</td>\n",
       "      <td>1</td>\n",
       "    </tr>\n",
       "    <tr>\n",
       "      <td>top</td>\n",
       "      <td>NaN</td>\n",
       "      <td>Vice Principal</td>\n",
       "      <td>Not Stated</td>\n",
       "      <td>Teaching</td>\n",
       "    </tr>\n",
       "    <tr>\n",
       "      <td>freq</td>\n",
       "      <td>NaN</td>\n",
       "      <td>13</td>\n",
       "      <td>24</td>\n",
       "      <td>60</td>\n",
       "    </tr>\n",
       "    <tr>\n",
       "      <td>mean</td>\n",
       "      <td>28.466667</td>\n",
       "      <td>NaN</td>\n",
       "      <td>NaN</td>\n",
       "      <td>NaN</td>\n",
       "    </tr>\n",
       "    <tr>\n",
       "      <td>std</td>\n",
       "      <td>13.902160</td>\n",
       "      <td>NaN</td>\n",
       "      <td>NaN</td>\n",
       "      <td>NaN</td>\n",
       "    </tr>\n",
       "    <tr>\n",
       "      <td>min</td>\n",
       "      <td>0.000000</td>\n",
       "      <td>NaN</td>\n",
       "      <td>NaN</td>\n",
       "      <td>NaN</td>\n",
       "    </tr>\n",
       "    <tr>\n",
       "      <td>25%</td>\n",
       "      <td>29.000000</td>\n",
       "      <td>NaN</td>\n",
       "      <td>NaN</td>\n",
       "      <td>NaN</td>\n",
       "    </tr>\n",
       "    <tr>\n",
       "      <td>50%</td>\n",
       "      <td>32.000000</td>\n",
       "      <td>NaN</td>\n",
       "      <td>NaN</td>\n",
       "      <td>NaN</td>\n",
       "    </tr>\n",
       "    <tr>\n",
       "      <td>75%</td>\n",
       "      <td>36.250000</td>\n",
       "      <td>NaN</td>\n",
       "      <td>NaN</td>\n",
       "      <td>NaN</td>\n",
       "    </tr>\n",
       "    <tr>\n",
       "      <td>max</td>\n",
       "      <td>51.000000</td>\n",
       "      <td>NaN</td>\n",
       "      <td>NaN</td>\n",
       "      <td>NaN</td>\n",
       "    </tr>\n",
       "  </tbody>\n",
       "</table>\n",
       "</div>"
      ],
      "text/plain": [
       "              Age  Office applied Current position  Job-Type\n",
       "count   60.000000              60               60        60\n",
       "unique        NaN              18               28         1\n",
       "top           NaN  Vice Principal       Not Stated  Teaching\n",
       "freq          NaN              13               24        60\n",
       "mean    28.466667             NaN              NaN       NaN\n",
       "std     13.902160             NaN              NaN       NaN\n",
       "min      0.000000             NaN              NaN       NaN\n",
       "25%     29.000000             NaN              NaN       NaN\n",
       "50%     32.000000             NaN              NaN       NaN\n",
       "75%     36.250000             NaN              NaN       NaN\n",
       "max     51.000000             NaN              NaN       NaN"
      ]
     },
     "execution_count": 15,
     "metadata": {},
     "output_type": "execute_result"
    }
   ],
   "source": [
    "df_teach[['Age','Office applied','Current position', 'Job-Type']].describe(include = 'all')\n",
    "#descriptive summary of dataframe"
   ]
  },
  {
   "cell_type": "markdown",
   "metadata": {},
   "source": [
    "The table above gives a basic descriptive summary about the 60 applicants that applied for a teaching job. For clarity:\n",
    "1. **Count** refers to the number of entries being considered (which is 60).\n",
    "2. **Unique** refers to the number of distinct value entries for a feature. NaN appears when quantitative or categorical operations cannot be performed on a feature value. For example, there is no unique, top, or frequency of top age; just like there is no mean, standard deviation, or five number summary for Gender, Marital Status, Office applied, Current postion or Job type.\n",
    "3. **Top** refers to most frequent category variable\n",
    "4. **Freq** refers to the frequency number for the **Top** category\n",
    "5. **mean, std** refer to mean and standard deviation.\n",
    "6. **five number summary (min(minimum), 25%(first quartile or 25th percentile), 50%(median or 50th percentile), 75%(third quartile or 75th percentile), max(maximum))** The five number summary represents spread/distribution of data\n",
    "\n",
    "*General Summary*\n",
    "1. 22% of applicants are applying for the role of vice principal out of 18 other unique Teaching positions\n",
    "4. 24 out of 60 applicants have no currently stated position of employment\n",
    "5. The mean age of the 60 applicants is roughly 28 years.\n",
    "6. The spread of age values from the mean is approximately 14 years\n",
    "\n",
    "Note that all 'Nan' values represent values that are not specific or cannot be specified."
   ]
  },
  {
   "cell_type": "markdown",
   "metadata": {},
   "source": [
    "### 2. Significance of Qualification Analysis (SQA)"
   ]
  },
  {
   "cell_type": "markdown",
   "metadata": {},
   "source": [
    "The SQA would take just two key features. The Academic qualifaction (A-qual) and the Office applied. This analysis is based on the following axioms.\n",
    "1. **Academic degrees in education are more relevant to the teaching practice than academic degrees in non-education.** For example, an applicant with a B.Ed. is more relevant to a teaching job than an applicant with a B.Sc.\n",
    "2. **The higher the number of academic degrees in education, the more significant the qualification is to teaching practice.** For example, an applicant with an OND, HND, B.Ed., and M.Ed. is more significant to the teaching practice than an applicant with OND, HND, B.Sc., and M.Ed.\n",
    "\n",
    "The result of this analysis is a ranked data set of each applicant with respect to the office applied and academic qualification. It is measured between (0-10)."
   ]
  },
  {
   "cell_type": "code",
   "execution_count": 16,
   "metadata": {},
   "outputs": [
    {
     "data": {
      "text/html": [
       "<div>\n",
       "<style scoped>\n",
       "    .dataframe tbody tr th:only-of-type {\n",
       "        vertical-align: middle;\n",
       "    }\n",
       "\n",
       "    .dataframe tbody tr th {\n",
       "        vertical-align: top;\n",
       "    }\n",
       "\n",
       "    .dataframe thead th {\n",
       "        text-align: right;\n",
       "    }\n",
       "</style>\n",
       "<table border=\"1\" class=\"dataframe\">\n",
       "  <thead>\n",
       "    <tr style=\"text-align: right;\">\n",
       "      <th></th>\n",
       "      <th>A-qual</th>\n",
       "      <th>Office applied</th>\n",
       "    </tr>\n",
       "  </thead>\n",
       "  <tbody>\n",
       "    <tr>\n",
       "      <td>count</td>\n",
       "      <td>60</td>\n",
       "      <td>60</td>\n",
       "    </tr>\n",
       "    <tr>\n",
       "      <td>unique</td>\n",
       "      <td>33</td>\n",
       "      <td>18</td>\n",
       "    </tr>\n",
       "    <tr>\n",
       "      <td>top</td>\n",
       "      <td>B.Ed.</td>\n",
       "      <td>Vice Principal</td>\n",
       "    </tr>\n",
       "    <tr>\n",
       "      <td>freq</td>\n",
       "      <td>8</td>\n",
       "      <td>13</td>\n",
       "    </tr>\n",
       "  </tbody>\n",
       "</table>\n",
       "</div>"
      ],
      "text/plain": [
       "       A-qual  Office applied\n",
       "count      60              60\n",
       "unique     33              18\n",
       "top     B.Ed.  Vice Principal\n",
       "freq        8              13"
      ]
     },
     "execution_count": 16,
     "metadata": {},
     "output_type": "execute_result"
    }
   ],
   "source": [
    "df_teach[['A-qual', 'Office applied']].describe()"
   ]
  },
  {
   "cell_type": "markdown",
   "metadata": {},
   "source": [
    "There are 33 unique academic qualifications with **B.Ed.** only being the most frequent. The academic qualifications are academic degrees or lists of academic degrees obtained by each applicant. There are also 18 unique Job posts, with the office of the vice principal being the most sought after , having a frequency of 13."
   ]
  },
  {
   "cell_type": "code",
   "execution_count": 17,
   "metadata": {},
   "outputs": [],
   "source": [
    "#visual of A-qual and office applied"
   ]
  },
  {
   "cell_type": "code",
   "execution_count": 18,
   "metadata": {},
   "outputs": [],
   "source": [
    "job_posts = list(df_teach['Office applied'].unique())"
   ]
  },
  {
   "cell_type": "code",
   "execution_count": 19,
   "metadata": {},
   "outputs": [
    {
     "name": "stdout",
     "output_type": "stream",
     "text": [
      "13 applicant applied for the post of Vice Principal\n",
      "11 applicant applied for the post of Principal \n",
      "2 applicant applied for the post of Yoruba Teacher\n",
      "5 applicant applied for the post of Teaching Staff\n",
      "5 applicant applied for the post of Mathematics Teacher\n",
      "4 applicant applied for the post of Basic Science Teacher\n",
      "4 applicant applied for the post of Civic Education Teacher\n",
      "1 applicant applied for the post of Business Studies Teacher\n",
      "1 applicant applied for the post of Music Instructor\n",
      "3 applicant applied for the post of English Language Teacher\n",
      "1 applicant applied for the post of Home Economics Teacher\n",
      "1 applicant applied for the post of C.R.S Teacher\n",
      "1 applicant applied for the post of Commerce Teacher\n",
      "1 applicant applied for the post of I.R.S Teacher\n",
      "2 applicant applied for the post of French Teacher\n",
      "1 applicant applied for the post of Cultural and Creative Arts Teacher\n",
      "2 applicant applied for the post of Basic Technology Teacher\n",
      "2 applicant applied for the post of Computer Science Teacher\n",
      "60 total applicants. 18 Offices.\n"
     ]
    },
    {
     "data": {
      "text/plain": [
       "(60, 14)"
      ]
     },
     "execution_count": 19,
     "metadata": {},
     "output_type": "execute_result"
    }
   ],
   "source": [
    "total = 0\n",
    "count = 0\n",
    "nw1 = []\n",
    "for i in job_posts:\n",
    "    xyzq = df_teach['Office applied'][df_teach['Office applied']==i]\n",
    "    job_applied = len(xyzq)\n",
    "    if job_applied >= 1:\n",
    "        print(job_applied, \"applicant applied for the post of\", i)\n",
    "        nw1.append(i)\n",
    "        total = job_applied + total\n",
    "        count +=1  \n",
    "print(total, 'total applicants.',count , 'Offices.' )\n",
    "\n",
    "bda1 = df_teach[df_teach['Office applied'].isin(nw1)].reset_index(drop = True)\n",
    "bda1.shape"
   ]
  },
  {
   "cell_type": "markdown",
   "metadata": {},
   "source": [
    "For job posts with maximum of 2 applicants, they can each be analysed individually, but for job posts with applicants higher than 2, a further filtering process is needed."
   ]
  },
  {
   "cell_type": "code",
   "execution_count": 20,
   "metadata": {},
   "outputs": [
    {
     "name": "stdout",
     "output_type": "stream",
     "text": [
      "13 applicant applied for the post of Vice Principal\n",
      "11 applicant applied for the post of Principal \n",
      "5 applicant applied for the post of Teaching Staff\n",
      "5 applicant applied for the post of Mathematics Teacher\n",
      "4 applicant applied for the post of Basic Science Teacher\n",
      "4 applicant applied for the post of Civic Education Teacher\n",
      "3 applicant applied for the post of English Language Teacher\n",
      "45 total applicants. 7 Offices.\n"
     ]
    },
    {
     "data": {
      "text/plain": [
       "(45, 14)"
      ]
     },
     "execution_count": 20,
     "metadata": {},
     "output_type": "execute_result"
    }
   ],
   "source": [
    "total = 0\n",
    "count = 0\n",
    "nw = []\n",
    "for i in job_posts:\n",
    "    xyz = df_teach['Office applied'][df_teach['Office applied']==i]\n",
    "    job_applied = len(xyz)\n",
    "    if job_applied > 2:\n",
    "        print(job_applied, \"applicant applied for the post of\", i)\n",
    "        nw.append(i)\n",
    "        total = job_applied + total\n",
    "        count +=1  \n",
    "print(total, 'total applicants.',count , 'Offices.' )\n",
    "\n",
    "bda1 = df_teach[df_teach['Office applied'].isin(nw)].reset_index(drop = True)\n",
    "bda1.shape"
   ]
  },
  {
   "cell_type": "code",
   "execution_count": 21,
   "metadata": {},
   "outputs": [
    {
     "data": {
      "text/plain": [
       "array(['NCE,B.Ed.,M.Ed.', 'B.Sc.,PGDE,Dip', 'B.Sc.', 'B.Ed.', 'NCE,B.Ed.',\n",
       "       'B.Tech.,PGDE', 'M.Ed.,B.Ed.', 'OND,HND,PGDE', 'B.Ed.,NCE,Dip',\n",
       "       'B.A', 'B.Ed.,PGD', 'M.A,B.Ed.', 'B.Eng.,PGDE,M.Sc.',\n",
       "       'B.Sc.,M.Sc.,PGDE', 'B.Sc.,OND', 'OND,B.Ed.', 'NCE,M.A,B.A',\n",
       "       'OND,HND', 'OND,NCE,B.Sc.', 'B.Ed.,M.Ed.', 'M.Ed.', 'M.Ed.,B.Sc.',\n",
       "       'B.Ed.,NCE', 'M.A,B.Sc.', 'B.Ed.,M.A', 'B.Sc.,PGDE',\n",
       "       'B.Ed.,M.Ed.,PGDE'], dtype=object)"
      ]
     },
     "execution_count": 21,
     "metadata": {},
     "output_type": "execute_result"
    }
   ],
   "source": [
    "bda1['A-qual'].unique()"
   ]
  },
  {
   "cell_type": "code",
   "execution_count": 22,
   "metadata": {},
   "outputs": [
    {
     "data": {
      "text/plain": [
       "array(['Name', 'Age', 'Gender', 'Nationality', 'Marital Status',\n",
       "       'Office applied', 'A-qual', 'TED', 'TEP', 'Current position',\n",
       "       'Job hopping', 'Job-Type', 'Phone Number', 'E-mail'], dtype=object)"
      ]
     },
     "execution_count": 22,
     "metadata": {},
     "output_type": "execute_result"
    }
   ],
   "source": [
    "bda1.columns.values"
   ]
  },
  {
   "cell_type": "code",
   "execution_count": 23,
   "metadata": {},
   "outputs": [
    {
     "data": {
      "text/plain": [
       "7"
      ]
     },
     "execution_count": 23,
     "metadata": {},
     "output_type": "execute_result"
    }
   ],
   "source": [
    "len(nw)"
   ]
  },
  {
   "cell_type": "code",
   "execution_count": 24,
   "metadata": {},
   "outputs": [
    {
     "data": {
      "text/html": [
       "<div>\n",
       "<style scoped>\n",
       "    .dataframe tbody tr th:only-of-type {\n",
       "        vertical-align: middle;\n",
       "    }\n",
       "\n",
       "    .dataframe tbody tr th {\n",
       "        vertical-align: top;\n",
       "    }\n",
       "\n",
       "    .dataframe thead th {\n",
       "        text-align: right;\n",
       "    }\n",
       "</style>\n",
       "<table border=\"1\" class=\"dataframe\">\n",
       "  <thead>\n",
       "    <tr style=\"text-align: right;\">\n",
       "      <th></th>\n",
       "      <th>Age</th>\n",
       "      <th>Gender</th>\n",
       "      <th>Office applied</th>\n",
       "      <th>A-qual</th>\n",
       "      <th>A-qual-rank</th>\n",
       "      <th>Phone Number</th>\n",
       "      <th>E-mail</th>\n",
       "    </tr>\n",
       "    <tr>\n",
       "      <th>Name</th>\n",
       "      <th></th>\n",
       "      <th></th>\n",
       "      <th></th>\n",
       "      <th></th>\n",
       "      <th></th>\n",
       "      <th></th>\n",
       "      <th></th>\n",
       "    </tr>\n",
       "  </thead>\n",
       "  <tbody>\n",
       "    <tr>\n",
       "      <td>IBEH, Peter Onyeka</td>\n",
       "      <td>39</td>\n",
       "      <td>Male</td>\n",
       "      <td>Vice Principal</td>\n",
       "      <td>B.Ed.,M.Ed.,PGDE</td>\n",
       "      <td>9.375</td>\n",
       "      <td>+234 8063773872</td>\n",
       "      <td>opeters4ever@yahoo.com</td>\n",
       "    </tr>\n",
       "    <tr>\n",
       "      <td>Babatunde Ogunwole</td>\n",
       "      <td>38</td>\n",
       "      <td>Male</td>\n",
       "      <td>Vice Principal</td>\n",
       "      <td>NCE,B.Ed.,M.Ed.</td>\n",
       "      <td>7.500</td>\n",
       "      <td>08030438639, 08096690338</td>\n",
       "      <td>babatunde16ogunwole@yahoo.com</td>\n",
       "    </tr>\n",
       "    <tr>\n",
       "      <td>OMOLODUN, FRANCIS GBOLAHAN</td>\n",
       "      <td>50</td>\n",
       "      <td>Male</td>\n",
       "      <td>Vice Principal</td>\n",
       "      <td>M.Ed.,B.Ed.</td>\n",
       "      <td>6.875</td>\n",
       "      <td>07032171277, 08023863907</td>\n",
       "      <td>omolodunfrancis@yahoo.com nadeyway@yahoo.co.uk</td>\n",
       "    </tr>\n",
       "    <tr>\n",
       "      <td>Fadoju .Jessica, Chioma, Olubukola</td>\n",
       "      <td>48</td>\n",
       "      <td>Female</td>\n",
       "      <td>Principal</td>\n",
       "      <td>B.Ed.,M.Ed.</td>\n",
       "      <td>6.875</td>\n",
       "      <td>08034394225, 08083890671</td>\n",
       "      <td>fadojujess@yahoo.com</td>\n",
       "    </tr>\n",
       "    <tr>\n",
       "      <td>EJIOGU Dorcas Karina</td>\n",
       "      <td>35</td>\n",
       "      <td>Female</td>\n",
       "      <td>Civic Education Teacher</td>\n",
       "      <td>B.Sc.,M.Sc.,PGDE</td>\n",
       "      <td>6.250</td>\n",
       "      <td>0803-367-5271</td>\n",
       "      <td>dorcasejiogu@yahoo.com</td>\n",
       "    </tr>\n",
       "    <tr>\n",
       "      <td>OKAFOR ANTHONY CHIEDU</td>\n",
       "      <td>41</td>\n",
       "      <td>Male</td>\n",
       "      <td>Vice Principal</td>\n",
       "      <td>B.Eng.,PGDE,M.Sc.</td>\n",
       "      <td>6.250</td>\n",
       "      <td>08035193777, 08024428963</td>\n",
       "      <td>chitonero@yahoo.com</td>\n",
       "    </tr>\n",
       "    <tr>\n",
       "      <td>IGWE, Ebenezer Ndubuisi</td>\n",
       "      <td>34</td>\n",
       "      <td>Male</td>\n",
       "      <td>Vice Principal</td>\n",
       "      <td>M.Ed.,B.Sc.</td>\n",
       "      <td>5.625</td>\n",
       "      <td>+234(0)8063310565, +234(0)8025620938</td>\n",
       "      <td>igweebenezerndubuisi@gmail.com</td>\n",
       "    </tr>\n",
       "    <tr>\n",
       "      <td>ADELAKUN ADEOLA ABIODUN</td>\n",
       "      <td>41</td>\n",
       "      <td>Male</td>\n",
       "      <td>English Language Teacher</td>\n",
       "      <td>M.A,B.Ed.</td>\n",
       "      <td>5.000</td>\n",
       "      <td>07032737483, 09090563329</td>\n",
       "      <td>adeolakun371@gmail.com</td>\n",
       "    </tr>\n",
       "    <tr>\n",
       "      <td>Orhokomua Omonigho Philip</td>\n",
       "      <td>35</td>\n",
       "      <td>Male</td>\n",
       "      <td>Principal</td>\n",
       "      <td>B.Sc.,PGDE,Dip</td>\n",
       "      <td>5.000</td>\n",
       "      <td>7061074472</td>\n",
       "      <td>philip4glory@gmail.com</td>\n",
       "    </tr>\n",
       "    <tr>\n",
       "      <td>David Adesoji Johnson</td>\n",
       "      <td>0</td>\n",
       "      <td>Male</td>\n",
       "      <td>Principal</td>\n",
       "      <td>B.Ed.,M.A</td>\n",
       "      <td>5.000</td>\n",
       "      <td>8034485988</td>\n",
       "      <td>davidadesojijohnson@gmail.com</td>\n",
       "    </tr>\n",
       "    <tr>\n",
       "      <td>David Adesoji Johnson</td>\n",
       "      <td>0</td>\n",
       "      <td>Male</td>\n",
       "      <td>Vice Principal</td>\n",
       "      <td>B.Ed.,M.A</td>\n",
       "      <td>5.000</td>\n",
       "      <td>8034485988</td>\n",
       "      <td>davidadesojijohnson@gmail.com</td>\n",
       "    </tr>\n",
       "    <tr>\n",
       "      <td>Orhokomua Omonigho Philip</td>\n",
       "      <td>35</td>\n",
       "      <td>Male</td>\n",
       "      <td>Vice Principal</td>\n",
       "      <td>B.Sc.,PGDE,Dip</td>\n",
       "      <td>5.000</td>\n",
       "      <td>7061074472</td>\n",
       "      <td>philip4glory@gmail.com</td>\n",
       "    </tr>\n",
       "    <tr>\n",
       "      <td>ADEBOWALE, Alaba Michael</td>\n",
       "      <td>36</td>\n",
       "      <td>Male</td>\n",
       "      <td>Vice Principal</td>\n",
       "      <td>B.Tech.,PGDE</td>\n",
       "      <td>4.375</td>\n",
       "      <td>0806 324 3412, 08073333837</td>\n",
       "      <td>mike1aflon@gmail.com</td>\n",
       "    </tr>\n",
       "    <tr>\n",
       "      <td>ADEBOWALE, Alaba Michael</td>\n",
       "      <td>36</td>\n",
       "      <td>Male</td>\n",
       "      <td>Principal</td>\n",
       "      <td>B.Tech.,PGDE</td>\n",
       "      <td>4.375</td>\n",
       "      <td>0806 324 3412, 08073333837</td>\n",
       "      <td>mike1aflon@gmail.com</td>\n",
       "    </tr>\n",
       "    <tr>\n",
       "      <td>BLESSING MUSA</td>\n",
       "      <td>0</td>\n",
       "      <td>Female</td>\n",
       "      <td>Principal</td>\n",
       "      <td>NCE,M.A,B.A</td>\n",
       "      <td>4.375</td>\n",
       "      <td>+2347038188880;</td>\n",
       "      <td>gohiomo@gmail.com</td>\n",
       "    </tr>\n",
       "    <tr>\n",
       "      <td>KEHINDE AYANDEJI SIMEON</td>\n",
       "      <td>32</td>\n",
       "      <td>Male</td>\n",
       "      <td>Civic Education Teacher</td>\n",
       "      <td>B.Ed.,NCE,Dip</td>\n",
       "      <td>4.375</td>\n",
       "      <td>8066182853</td>\n",
       "      <td>kehindesimeon66@gmail.com</td>\n",
       "    </tr>\n",
       "    <tr>\n",
       "      <td>OJOKO OLUWAFEMI</td>\n",
       "      <td>0</td>\n",
       "      <td>Male</td>\n",
       "      <td>Civic Education Teacher</td>\n",
       "      <td>B.Sc.,PGDE</td>\n",
       "      <td>4.375</td>\n",
       "      <td>7033607636</td>\n",
       "      <td>ojokofemi@gmail.com</td>\n",
       "    </tr>\n",
       "    <tr>\n",
       "      <td>BLESSING MUSA</td>\n",
       "      <td>0</td>\n",
       "      <td>Female</td>\n",
       "      <td>Vice Principal</td>\n",
       "      <td>NCE,M.A,B.A</td>\n",
       "      <td>4.375</td>\n",
       "      <td>+2347038188880;</td>\n",
       "      <td>gohiomo@gmail.com</td>\n",
       "    </tr>\n",
       "    <tr>\n",
       "      <td>AROTIOWA ABIOLA GBENGA</td>\n",
       "      <td>35</td>\n",
       "      <td>Male</td>\n",
       "      <td>Basic Science Teacher</td>\n",
       "      <td>OND,HND,PGDE</td>\n",
       "      <td>4.375</td>\n",
       "      <td>08066505270, 08079917913</td>\n",
       "      <td>Arotiowabiola2000@gmail.com</td>\n",
       "    </tr>\n",
       "    <tr>\n",
       "      <td>ADEJUMO TIMOTHY OLUWOLE</td>\n",
       "      <td>38</td>\n",
       "      <td>Male</td>\n",
       "      <td>Principal</td>\n",
       "      <td>M.A,B.Sc.</td>\n",
       "      <td>3.750</td>\n",
       "      <td>8072778227</td>\n",
       "      <td>timothyoluwole@yahoo.com</td>\n",
       "    </tr>\n",
       "    <tr>\n",
       "      <td>John-mba Roselyn ijeoma</td>\n",
       "      <td>32</td>\n",
       "      <td>Female</td>\n",
       "      <td>English Language Teacher</td>\n",
       "      <td>B.Ed.,NCE</td>\n",
       "      <td>3.750</td>\n",
       "      <td>08030617048, 08063411090</td>\n",
       "      <td>roselynjohn1990@gmail.com</td>\n",
       "    </tr>\n",
       "    <tr>\n",
       "      <td>ADEJUMO TIMOTHY OLUWOLE</td>\n",
       "      <td>38</td>\n",
       "      <td>Male</td>\n",
       "      <td>Vice Principal</td>\n",
       "      <td>M.A,B.Sc.</td>\n",
       "      <td>3.750</td>\n",
       "      <td>8072778227</td>\n",
       "      <td>timothyoluwole@yahoo.com</td>\n",
       "    </tr>\n",
       "    <tr>\n",
       "      <td>Olawumi,Oluyemi Charles</td>\n",
       "      <td>51</td>\n",
       "      <td>Male</td>\n",
       "      <td>Principal</td>\n",
       "      <td>M.Ed.</td>\n",
       "      <td>3.750</td>\n",
       "      <td>08067534755 (WhatsApp only), 07068753333</td>\n",
       "      <td>charles.olawumi88@gmail.com, olawumicharles993...</td>\n",
       "    </tr>\n",
       "    <tr>\n",
       "      <td>YINUSA BUSAYO PAUL</td>\n",
       "      <td>30</td>\n",
       "      <td>Male</td>\n",
       "      <td>Basic Science Teacher</td>\n",
       "      <td>OND,B.Ed.</td>\n",
       "      <td>3.750</td>\n",
       "      <td>8162645927</td>\n",
       "      <td>paulbusayo@gmail.com,</td>\n",
       "    </tr>\n",
       "    <tr>\n",
       "      <td>MASELUGBO DAMILOLA JOSEPH</td>\n",
       "      <td>29</td>\n",
       "      <td>Male</td>\n",
       "      <td>Teaching Staff</td>\n",
       "      <td>NCE,B.Ed.</td>\n",
       "      <td>3.750</td>\n",
       "      <td>8164077655</td>\n",
       "      <td>damilolajoseph22@gmail.com</td>\n",
       "    </tr>\n",
       "    <tr>\n",
       "      <td>IDOWU ADAVIZE MOHAMMED</td>\n",
       "      <td>30</td>\n",
       "      <td>Male</td>\n",
       "      <td>Civic Education Teacher</td>\n",
       "      <td>NCE,B.Ed.</td>\n",
       "      <td>3.750</td>\n",
       "      <td>08163485965 OR 07065047927</td>\n",
       "      <td>idowuadavize1@gmail.com</td>\n",
       "    </tr>\n",
       "    <tr>\n",
       "      <td>BABALOLA OLUWASHOLA AMOS</td>\n",
       "      <td>36</td>\n",
       "      <td>Male</td>\n",
       "      <td>Principal</td>\n",
       "      <td>B.Ed.,PGD</td>\n",
       "      <td>3.125</td>\n",
       "      <td>7030684141</td>\n",
       "      <td>babalolaoluwashola@gmail.com</td>\n",
       "    </tr>\n",
       "    <tr>\n",
       "      <td>ALAMU FEMI</td>\n",
       "      <td>37</td>\n",
       "      <td>Male</td>\n",
       "      <td>Basic Science Teacher</td>\n",
       "      <td>B.Ed.</td>\n",
       "      <td>3.125</td>\n",
       "      <td>08054461115, 07033630347</td>\n",
       "      <td>NaN</td>\n",
       "    </tr>\n",
       "    <tr>\n",
       "      <td>JOLOMI VICTOR JOSEPH</td>\n",
       "      <td>37</td>\n",
       "      <td>Male</td>\n",
       "      <td>Vice Principal</td>\n",
       "      <td>B.Ed.</td>\n",
       "      <td>3.125</td>\n",
       "      <td>08140906048; 08164288254.</td>\n",
       "      <td>profjjvictor2@gmail.com</td>\n",
       "    </tr>\n",
       "    <tr>\n",
       "      <td>JOLOMI VICTOR JOSEPH</td>\n",
       "      <td>37</td>\n",
       "      <td>Male</td>\n",
       "      <td>Mathematics Teacher</td>\n",
       "      <td>B.Ed.</td>\n",
       "      <td>3.125</td>\n",
       "      <td>08140906048; 08164288254.</td>\n",
       "      <td>profjjvictor2@gmail.com</td>\n",
       "    </tr>\n",
       "    <tr>\n",
       "      <td>ADUNDU SOLOMON TEMIDAYO</td>\n",
       "      <td>30</td>\n",
       "      <td>Male</td>\n",
       "      <td>Teaching Staff</td>\n",
       "      <td>B.Ed.</td>\n",
       "      <td>3.125</td>\n",
       "      <td>08087849758 / 09033911049.</td>\n",
       "      <td>solomonadundu6@gmail.com</td>\n",
       "    </tr>\n",
       "    <tr>\n",
       "      <td>OKONOFUA DAVID OZIEGBE</td>\n",
       "      <td>35</td>\n",
       "      <td>Male</td>\n",
       "      <td>Principal</td>\n",
       "      <td>B.Ed.</td>\n",
       "      <td>3.125</td>\n",
       "      <td>08029578093. 07062844164</td>\n",
       "      <td>davidokonofua72@yahoo.com</td>\n",
       "    </tr>\n",
       "    <tr>\n",
       "      <td>EMONEFE, JODARO</td>\n",
       "      <td>31</td>\n",
       "      <td>Male</td>\n",
       "      <td>Mathematics Teacher</td>\n",
       "      <td>B.Ed.</td>\n",
       "      <td>3.125</td>\n",
       "      <td>08164010481; 07036435642.</td>\n",
       "      <td>emonefej@gmail.com</td>\n",
       "    </tr>\n",
       "    <tr>\n",
       "      <td>ANDREW EDET</td>\n",
       "      <td>35</td>\n",
       "      <td>Male</td>\n",
       "      <td>Principal</td>\n",
       "      <td>OND,NCE,B.Sc.</td>\n",
       "      <td>3.125</td>\n",
       "      <td>08087688652, 07032467495</td>\n",
       "      <td>kingandrewnsa@gmail.com</td>\n",
       "    </tr>\n",
       "    <tr>\n",
       "      <td>OGUNJOBI THOMAS OLUWAROTIMI</td>\n",
       "      <td>25</td>\n",
       "      <td>Male</td>\n",
       "      <td>Basic Science Teacher</td>\n",
       "      <td>B.Ed.</td>\n",
       "      <td>3.125</td>\n",
       "      <td>08179618905, 08153046205</td>\n",
       "      <td>Ogunjobithomasrotimi@gmail.com</td>\n",
       "    </tr>\n",
       "    <tr>\n",
       "      <td>ADEOYE BENEDICT SOTUBO</td>\n",
       "      <td>39</td>\n",
       "      <td>Male</td>\n",
       "      <td>Vice Principal</td>\n",
       "      <td>B.Sc.,OND</td>\n",
       "      <td>2.500</td>\n",
       "      <td>08125587906, 07034271072</td>\n",
       "      <td>Obasot2003@yahoo.com</td>\n",
       "    </tr>\n",
       "    <tr>\n",
       "      <td>MICHAEL EJIRO OSANIMU</td>\n",
       "      <td>26</td>\n",
       "      <td>Male</td>\n",
       "      <td>Mathematics Teacher</td>\n",
       "      <td>B.Sc.</td>\n",
       "      <td>1.875</td>\n",
       "      <td>09034583956, 07080171358</td>\n",
       "      <td>cmiracle337@gmail.com</td>\n",
       "    </tr>\n",
       "    <tr>\n",
       "      <td>Falade Adeyinka.</td>\n",
       "      <td>31</td>\n",
       "      <td>Male</td>\n",
       "      <td>Teaching Staff</td>\n",
       "      <td>B.Sc.</td>\n",
       "      <td>1.875</td>\n",
       "      <td>falade.adeyinka@yahoo.com</td>\n",
       "      <td>NaN</td>\n",
       "    </tr>\n",
       "    <tr>\n",
       "      <td>KEHINDE EXCEL OKE</td>\n",
       "      <td>29</td>\n",
       "      <td>Female</td>\n",
       "      <td>Teaching Staff</td>\n",
       "      <td>B.A</td>\n",
       "      <td>1.875</td>\n",
       "      <td>8165007921</td>\n",
       "      <td>akerejahkehinde@gmail.com</td>\n",
       "    </tr>\n",
       "    <tr>\n",
       "      <td>NGOZI UGWU</td>\n",
       "      <td>0</td>\n",
       "      <td>Female</td>\n",
       "      <td>Vice Principal</td>\n",
       "      <td>OND,HND</td>\n",
       "      <td>1.875</td>\n",
       "      <td>09062679506/ 08168486695</td>\n",
       "      <td>hillshope5@gmail.com</td>\n",
       "    </tr>\n",
       "    <tr>\n",
       "      <td>FREEMAN KORKARA, KOBO</td>\n",
       "      <td>31</td>\n",
       "      <td>Male</td>\n",
       "      <td>English Language Teacher</td>\n",
       "      <td>B.A</td>\n",
       "      <td>1.875</td>\n",
       "      <td>08116205854, 08174611446.</td>\n",
       "      <td>proffreemankorkara@gmail.com, and proffreemank...</td>\n",
       "    </tr>\n",
       "    <tr>\n",
       "      <td>SUNDAY STANLEY IDUNG</td>\n",
       "      <td>23</td>\n",
       "      <td>Male</td>\n",
       "      <td>Mathematics Teacher</td>\n",
       "      <td>B.Sc.</td>\n",
       "      <td>1.875</td>\n",
       "      <td>9039267685</td>\n",
       "      <td>sundaystanley56@gmail.com</td>\n",
       "    </tr>\n",
       "    <tr>\n",
       "      <td>NGOZI UGWU</td>\n",
       "      <td>0</td>\n",
       "      <td>Female</td>\n",
       "      <td>Principal</td>\n",
       "      <td>OND,HND</td>\n",
       "      <td>1.875</td>\n",
       "      <td>09062679506/ 08168486695</td>\n",
       "      <td>hillshope5@gmail.com</td>\n",
       "    </tr>\n",
       "    <tr>\n",
       "      <td>VICTOR IKECHUKWU AZODO</td>\n",
       "      <td>33</td>\n",
       "      <td>Male</td>\n",
       "      <td>Mathematics Teacher</td>\n",
       "      <td>B.Sc.</td>\n",
       "      <td>1.875</td>\n",
       "      <td>234-8165649947</td>\n",
       "      <td>daresmsn3537@gmail.com</td>\n",
       "    </tr>\n",
       "    <tr>\n",
       "      <td>IBRAHIM SAMINU MUHAMMED</td>\n",
       "      <td>30</td>\n",
       "      <td>Male</td>\n",
       "      <td>Teaching Staff</td>\n",
       "      <td>B.Sc.</td>\n",
       "      <td>1.875</td>\n",
       "      <td>08038096181, 08157984363</td>\n",
       "      <td>ibrahimsameen1@gmail.com</td>\n",
       "    </tr>\n",
       "  </tbody>\n",
       "</table>\n",
       "</div>"
      ],
      "text/plain": [
       "                                    Age  Gender            Office applied  \\\n",
       "Name                                                                        \n",
       "IBEH, Peter Onyeka                   39    Male            Vice Principal   \n",
       "Babatunde Ogunwole                   38    Male            Vice Principal   \n",
       "OMOLODUN, FRANCIS GBOLAHAN           50    Male            Vice Principal   \n",
       "Fadoju .Jessica, Chioma, Olubukola   48  Female                Principal    \n",
       "EJIOGU Dorcas Karina                 35  Female   Civic Education Teacher   \n",
       "OKAFOR ANTHONY CHIEDU                41    Male            Vice Principal   \n",
       "IGWE, Ebenezer Ndubuisi              34    Male            Vice Principal   \n",
       "ADELAKUN ADEOLA ABIODUN              41    Male  English Language Teacher   \n",
       "Orhokomua Omonigho Philip            35    Male                Principal    \n",
       "David Adesoji Johnson                 0    Male                Principal    \n",
       "David Adesoji Johnson                 0    Male            Vice Principal   \n",
       "Orhokomua Omonigho Philip            35    Male            Vice Principal   \n",
       "ADEBOWALE, Alaba Michael             36    Male            Vice Principal   \n",
       "ADEBOWALE, Alaba Michael             36    Male                Principal    \n",
       "BLESSING MUSA                         0  Female                Principal    \n",
       "KEHINDE AYANDEJI SIMEON              32    Male   Civic Education Teacher   \n",
       "OJOKO OLUWAFEMI                       0    Male   Civic Education Teacher   \n",
       "BLESSING MUSA                         0  Female            Vice Principal   \n",
       "AROTIOWA ABIOLA GBENGA               35    Male     Basic Science Teacher   \n",
       "ADEJUMO TIMOTHY OLUWOLE              38    Male                Principal    \n",
       "John-mba Roselyn ijeoma              32  Female  English Language Teacher   \n",
       "ADEJUMO TIMOTHY OLUWOLE              38    Male            Vice Principal   \n",
       "Olawumi,Oluyemi Charles              51    Male                Principal    \n",
       "YINUSA BUSAYO PAUL                   30    Male     Basic Science Teacher   \n",
       "MASELUGBO DAMILOLA JOSEPH            29    Male            Teaching Staff   \n",
       "IDOWU ADAVIZE MOHAMMED               30    Male   Civic Education Teacher   \n",
       "BABALOLA OLUWASHOLA AMOS             36    Male                Principal    \n",
       "ALAMU FEMI                           37    Male     Basic Science Teacher   \n",
       "JOLOMI VICTOR JOSEPH                 37    Male            Vice Principal   \n",
       "JOLOMI VICTOR JOSEPH                 37    Male       Mathematics Teacher   \n",
       "ADUNDU SOLOMON TEMIDAYO              30    Male            Teaching Staff   \n",
       "OKONOFUA DAVID OZIEGBE               35    Male                Principal    \n",
       "EMONEFE, JODARO                      31    Male       Mathematics Teacher   \n",
       "ANDREW EDET                          35    Male                Principal    \n",
       "OGUNJOBI THOMAS OLUWAROTIMI          25    Male     Basic Science Teacher   \n",
       "ADEOYE BENEDICT SOTUBO               39    Male            Vice Principal   \n",
       "MICHAEL EJIRO OSANIMU                26    Male       Mathematics Teacher   \n",
       "Falade Adeyinka.                     31    Male            Teaching Staff   \n",
       "KEHINDE EXCEL OKE                    29  Female            Teaching Staff   \n",
       "NGOZI UGWU                            0  Female            Vice Principal   \n",
       "FREEMAN KORKARA, KOBO                31    Male  English Language Teacher   \n",
       "SUNDAY STANLEY IDUNG                 23    Male       Mathematics Teacher   \n",
       "NGOZI UGWU                            0  Female                Principal    \n",
       "VICTOR IKECHUKWU AZODO               33    Male       Mathematics Teacher   \n",
       "IBRAHIM SAMINU MUHAMMED              30    Male            Teaching Staff   \n",
       "\n",
       "                                               A-qual  A-qual-rank  \\\n",
       "Name                                                                 \n",
       "IBEH, Peter Onyeka                   B.Ed.,M.Ed.,PGDE        9.375   \n",
       "Babatunde Ogunwole                    NCE,B.Ed.,M.Ed.        7.500   \n",
       "OMOLODUN, FRANCIS GBOLAHAN                M.Ed.,B.Ed.        6.875   \n",
       "Fadoju .Jessica, Chioma, Olubukola        B.Ed.,M.Ed.        6.875   \n",
       "EJIOGU Dorcas Karina                 B.Sc.,M.Sc.,PGDE        6.250   \n",
       "OKAFOR ANTHONY CHIEDU               B.Eng.,PGDE,M.Sc.        6.250   \n",
       "IGWE, Ebenezer Ndubuisi                   M.Ed.,B.Sc.        5.625   \n",
       "ADELAKUN ADEOLA ABIODUN                     M.A,B.Ed.        5.000   \n",
       "Orhokomua Omonigho Philip              B.Sc.,PGDE,Dip        5.000   \n",
       "David Adesoji Johnson                       B.Ed.,M.A        5.000   \n",
       "David Adesoji Johnson                       B.Ed.,M.A        5.000   \n",
       "Orhokomua Omonigho Philip              B.Sc.,PGDE,Dip        5.000   \n",
       "ADEBOWALE, Alaba Michael                 B.Tech.,PGDE        4.375   \n",
       "ADEBOWALE, Alaba Michael                 B.Tech.,PGDE        4.375   \n",
       "BLESSING MUSA                             NCE,M.A,B.A        4.375   \n",
       "KEHINDE AYANDEJI SIMEON                 B.Ed.,NCE,Dip        4.375   \n",
       "OJOKO OLUWAFEMI                            B.Sc.,PGDE        4.375   \n",
       "BLESSING MUSA                             NCE,M.A,B.A        4.375   \n",
       "AROTIOWA ABIOLA GBENGA                   OND,HND,PGDE        4.375   \n",
       "ADEJUMO TIMOTHY OLUWOLE                     M.A,B.Sc.        3.750   \n",
       "John-mba Roselyn ijeoma                     B.Ed.,NCE        3.750   \n",
       "ADEJUMO TIMOTHY OLUWOLE                     M.A,B.Sc.        3.750   \n",
       "Olawumi,Oluyemi Charles                         M.Ed.        3.750   \n",
       "YINUSA BUSAYO PAUL                          OND,B.Ed.        3.750   \n",
       "MASELUGBO DAMILOLA JOSEPH                   NCE,B.Ed.        3.750   \n",
       "IDOWU ADAVIZE MOHAMMED                      NCE,B.Ed.        3.750   \n",
       "BABALOLA OLUWASHOLA AMOS                    B.Ed.,PGD        3.125   \n",
       "ALAMU FEMI                                      B.Ed.        3.125   \n",
       "JOLOMI VICTOR JOSEPH                            B.Ed.        3.125   \n",
       "JOLOMI VICTOR JOSEPH                            B.Ed.        3.125   \n",
       "ADUNDU SOLOMON TEMIDAYO                         B.Ed.        3.125   \n",
       "OKONOFUA DAVID OZIEGBE                          B.Ed.        3.125   \n",
       "EMONEFE, JODARO                                 B.Ed.        3.125   \n",
       "ANDREW EDET                             OND,NCE,B.Sc.        3.125   \n",
       "OGUNJOBI THOMAS OLUWAROTIMI                     B.Ed.        3.125   \n",
       "ADEOYE BENEDICT SOTUBO                      B.Sc.,OND        2.500   \n",
       "MICHAEL EJIRO OSANIMU                           B.Sc.        1.875   \n",
       "Falade Adeyinka.                                B.Sc.        1.875   \n",
       "KEHINDE EXCEL OKE                                 B.A        1.875   \n",
       "NGOZI UGWU                                    OND,HND        1.875   \n",
       "FREEMAN KORKARA, KOBO                             B.A        1.875   \n",
       "SUNDAY STANLEY IDUNG                            B.Sc.        1.875   \n",
       "NGOZI UGWU                                    OND,HND        1.875   \n",
       "VICTOR IKECHUKWU AZODO                          B.Sc.        1.875   \n",
       "IBRAHIM SAMINU MUHAMMED                         B.Sc.        1.875   \n",
       "\n",
       "                                                                Phone Number  \\\n",
       "Name                                                                           \n",
       "IBEH, Peter Onyeka                                           +234 8063773872   \n",
       "Babatunde Ogunwole                                  08030438639, 08096690338   \n",
       "OMOLODUN, FRANCIS GBOLAHAN                          07032171277, 08023863907   \n",
       "Fadoju .Jessica, Chioma, Olubukola                  08034394225, 08083890671   \n",
       "EJIOGU Dorcas Karina                                           0803-367-5271   \n",
       "OKAFOR ANTHONY CHIEDU                               08035193777, 08024428963   \n",
       "IGWE, Ebenezer Ndubuisi                 +234(0)8063310565, +234(0)8025620938   \n",
       "ADELAKUN ADEOLA ABIODUN                             07032737483, 09090563329   \n",
       "Orhokomua Omonigho Philip                                         7061074472   \n",
       "David Adesoji Johnson                                             8034485988   \n",
       "David Adesoji Johnson                                             8034485988   \n",
       "Orhokomua Omonigho Philip                                         7061074472   \n",
       "ADEBOWALE, Alaba Michael                          0806 324 3412, 08073333837   \n",
       "ADEBOWALE, Alaba Michael                          0806 324 3412, 08073333837   \n",
       "BLESSING MUSA                                                +2347038188880;   \n",
       "KEHINDE AYANDEJI SIMEON                                           8066182853   \n",
       "OJOKO OLUWAFEMI                                                   7033607636   \n",
       "BLESSING MUSA                                                +2347038188880;   \n",
       "AROTIOWA ABIOLA GBENGA                              08066505270, 08079917913   \n",
       "ADEJUMO TIMOTHY OLUWOLE                                           8072778227   \n",
       "John-mba Roselyn ijeoma                             08030617048, 08063411090   \n",
       "ADEJUMO TIMOTHY OLUWOLE                                           8072778227   \n",
       "Olawumi,Oluyemi Charles             08067534755 (WhatsApp only), 07068753333   \n",
       "YINUSA BUSAYO PAUL                                                8162645927   \n",
       "MASELUGBO DAMILOLA JOSEPH                                         8164077655   \n",
       "IDOWU ADAVIZE MOHAMMED                            08163485965 OR 07065047927   \n",
       "BABALOLA OLUWASHOLA AMOS                                          7030684141   \n",
       "ALAMU FEMI                                          08054461115, 07033630347   \n",
       "JOLOMI VICTOR JOSEPH                               08140906048; 08164288254.   \n",
       "JOLOMI VICTOR JOSEPH                               08140906048; 08164288254.   \n",
       "ADUNDU SOLOMON TEMIDAYO                           08087849758 / 09033911049.   \n",
       "OKONOFUA DAVID OZIEGBE                              08029578093. 07062844164   \n",
       "EMONEFE, JODARO                                    08164010481; 07036435642.   \n",
       "ANDREW EDET                                         08087688652, 07032467495   \n",
       "OGUNJOBI THOMAS OLUWAROTIMI                         08179618905, 08153046205   \n",
       "ADEOYE BENEDICT SOTUBO                              08125587906, 07034271072   \n",
       "MICHAEL EJIRO OSANIMU                               09034583956, 07080171358   \n",
       "Falade Adeyinka.                                   falade.adeyinka@yahoo.com   \n",
       "KEHINDE EXCEL OKE                                                 8165007921   \n",
       "NGOZI UGWU                                          09062679506/ 08168486695   \n",
       "FREEMAN KORKARA, KOBO                              08116205854, 08174611446.   \n",
       "SUNDAY STANLEY IDUNG                                              9039267685   \n",
       "NGOZI UGWU                                          09062679506/ 08168486695   \n",
       "VICTOR IKECHUKWU AZODO                                        234-8165649947   \n",
       "IBRAHIM SAMINU MUHAMMED                             08038096181, 08157984363   \n",
       "\n",
       "                                                                               E-mail  \n",
       "Name                                                                                   \n",
       "IBEH, Peter Onyeka                                             opeters4ever@yahoo.com  \n",
       "Babatunde Ogunwole                                      babatunde16ogunwole@yahoo.com  \n",
       "OMOLODUN, FRANCIS GBOLAHAN             omolodunfrancis@yahoo.com nadeyway@yahoo.co.uk  \n",
       "Fadoju .Jessica, Chioma, Olubukola                               fadojujess@yahoo.com  \n",
       "EJIOGU Dorcas Karina                                           dorcasejiogu@yahoo.com  \n",
       "OKAFOR ANTHONY CHIEDU                                             chitonero@yahoo.com  \n",
       "IGWE, Ebenezer Ndubuisi                                igweebenezerndubuisi@gmail.com  \n",
       "ADELAKUN ADEOLA ABIODUN                                        adeolakun371@gmail.com  \n",
       "Orhokomua Omonigho Philip                                      philip4glory@gmail.com  \n",
       "David Adesoji Johnson                                   davidadesojijohnson@gmail.com  \n",
       "David Adesoji Johnson                                   davidadesojijohnson@gmail.com  \n",
       "Orhokomua Omonigho Philip                                      philip4glory@gmail.com  \n",
       "ADEBOWALE, Alaba Michael                                         mike1aflon@gmail.com  \n",
       "ADEBOWALE, Alaba Michael                                         mike1aflon@gmail.com  \n",
       "BLESSING MUSA                                                       gohiomo@gmail.com  \n",
       "KEHINDE AYANDEJI SIMEON                                     kehindesimeon66@gmail.com  \n",
       "OJOKO OLUWAFEMI                                                   ojokofemi@gmail.com  \n",
       "BLESSING MUSA                                                       gohiomo@gmail.com  \n",
       "AROTIOWA ABIOLA GBENGA                                    Arotiowabiola2000@gmail.com  \n",
       "ADEJUMO TIMOTHY OLUWOLE                                      timothyoluwole@yahoo.com  \n",
       "John-mba Roselyn ijeoma                                     roselynjohn1990@gmail.com  \n",
       "ADEJUMO TIMOTHY OLUWOLE                                      timothyoluwole@yahoo.com  \n",
       "Olawumi,Oluyemi Charles             charles.olawumi88@gmail.com, olawumicharles993...  \n",
       "YINUSA BUSAYO PAUL                                              paulbusayo@gmail.com,  \n",
       "MASELUGBO DAMILOLA JOSEPH                                  damilolajoseph22@gmail.com  \n",
       "IDOWU ADAVIZE MOHAMMED                                        idowuadavize1@gmail.com  \n",
       "BABALOLA OLUWASHOLA AMOS                                 babalolaoluwashola@gmail.com  \n",
       "ALAMU FEMI                                                                        NaN  \n",
       "JOLOMI VICTOR JOSEPH                                          profjjvictor2@gmail.com  \n",
       "JOLOMI VICTOR JOSEPH                                          profjjvictor2@gmail.com  \n",
       "ADUNDU SOLOMON TEMIDAYO                                      solomonadundu6@gmail.com  \n",
       "OKONOFUA DAVID OZIEGBE                                      davidokonofua72@yahoo.com  \n",
       "EMONEFE, JODARO                                                    emonefej@gmail.com  \n",
       "ANDREW EDET                                                   kingandrewnsa@gmail.com  \n",
       "OGUNJOBI THOMAS OLUWAROTIMI                            Ogunjobithomasrotimi@gmail.com  \n",
       "ADEOYE BENEDICT SOTUBO                                           Obasot2003@yahoo.com  \n",
       "MICHAEL EJIRO OSANIMU                                           cmiracle337@gmail.com  \n",
       "Falade Adeyinka.                                                                  NaN  \n",
       "KEHINDE EXCEL OKE                                           akerejahkehinde@gmail.com  \n",
       "NGOZI UGWU                                                       hillshope5@gmail.com  \n",
       "FREEMAN KORKARA, KOBO               proffreemankorkara@gmail.com, and proffreemank...  \n",
       "SUNDAY STANLEY IDUNG                                        sundaystanley56@gmail.com  \n",
       "NGOZI UGWU                                                       hillshope5@gmail.com  \n",
       "VICTOR IKECHUKWU AZODO                                         daresmsn3537@gmail.com  \n",
       "IBRAHIM SAMINU MUHAMMED                                      ibrahimsameen1@gmail.com  "
      ]
     },
     "execution_count": 24,
     "metadata": {},
     "output_type": "execute_result"
    }
   ],
   "source": [
    "weight_maps = {'M.Ed.': 6, 'B.Ed.': 5, 'PGDE' : 4, 'B.Tech.':3, 'B.Eng.':3,\n",
    "               'M.Sc.':3, 'B.Sc.':3, 'M.A':3, 'B.A':3, 'HND':2, 'NCE':1, 'OND':1, 'Dip':1}\n",
    "\n",
    "grade = [] #New list\n",
    "for i in bda1['A-qual']:        #Traverse the column,                                \n",
    "    x = i.split(\",\")         #convert string to list\n",
    "    total_weight = 0  #initialise weight\n",
    "    for j in x:\n",
    "        total_weight += weight_maps.get(j, 0)          #cummulate sum while getting the value from the weight map\n",
    "    grade.append((total_weight/16)*10)       #append to new list\n",
    "bda1['A-qual-rank'] = grade    #create a new column\n",
    "def job(dd, y):\n",
    "    return dd.groupby('Office applied').get_group(y).reset_index(drop = True)\n",
    "\n",
    "later = bda1[['Name', 'Age', 'Gender',\n",
    "       'Office applied', 'A-qual', 'A-qual-rank', 'TED', 'TEP', 'Current position',\n",
    "       'Job hopping', 'Phone Number', 'E-mail']]\n",
    "\n",
    "pl = bda1[['Name', 'Age', 'Gender', 'Office applied', 'A-qual', 'A-qual-rank', 'Phone Number', 'E-mail']].sort_values('A-qual-rank',\n",
    "                                                                      ascending = False, axis = 0).set_index('Name')\n",
    "pl"
   ]
  },
  {
   "cell_type": "markdown",
   "metadata": {},
   "source": [
    "The A-qual-rank (Academic qualification rank) is measured between (0-10)."
   ]
  },
  {
   "cell_type": "code",
   "execution_count": 25,
   "metadata": {},
   "outputs": [
    {
     "data": {
      "text/plain": [
       "<matplotlib.axes._subplots.AxesSubplot at 0x24f4971ee08>"
      ]
     },
     "execution_count": 25,
     "metadata": {},
     "output_type": "execute_result"
    },
    {
     "data": {
      "image/png": "[encoded data removed]",
      "text/plain": [
       "<Figure size 1368x1800 with 1 Axes>"
      ]
     },
     "metadata": {
      "needs_background": "light"
     },
     "output_type": "display_data"
    }
   ],
   "source": [
    "pl.plot(kind = 'barh', figsize = (19,25), grid = True)"
   ]
  },
  {
   "cell_type": "markdown",
   "metadata": {},
   "source": [
    "This first filter data entry would serve as input to Experience and Loyalty Anlysis (LA). "
   ]
  },
  {
   "cell_type": "markdown",
   "metadata": {},
   "source": [
    "#### 3. Experience and Loyalty Analysis (EA)"
   ]
  },
  {
   "cell_type": "markdown",
   "metadata": {},
   "source": [
    "The experience of applicants play a major role in ranking the fitness for the office applied. The TED feature(Teaching experience duration) is ranked in descending order and measured in years."
   ]
  },
  {
   "cell_type": "markdown",
   "metadata": {},
   "source": [
    "Loyalty analysis takes two features into consideration. \n",
    "1. Job hopping (Number of times applicant left an employment position in less than 3 years[0-2yrs])\n",
    "2. TED \n",
    "\n",
    "A standard format of the ratio of TED to the sum of Job hopping and TED yields a value called the loyalty rank. A high loyalty rank means the applicant has a high tendency of being loyal. A low loyalty rank refers means the applicant has a low tendency of being loyal. It is measured withing the range (0-10) just like the A-qual-rank"
   ]
  },
  {
   "cell_type": "code",
   "execution_count": 26,
   "metadata": {},
   "outputs": [
    {
     "name": "stderr",
     "output_type": "stream",
     "text": [
      "C:\\Users\\Nachi\\Anaconda3\\lib\\site-packages\\pandas\\core\\frame.py:4263: SettingWithCopyWarning: \n",
      "A value is trying to be set on a copy of a slice from a DataFrame\n",
      "\n",
      "See the caveats in the documentation: http://pandas.pydata.org/pandas-docs/stable/user_guide/indexing.html#returning-a-view-versus-a-copy\n",
      "  method=method,\n"
     ]
    },
    {
     "data": {
      "text/plain": [
       "Name           object\n",
       "TED             int64\n",
       "Job hopping     int64\n",
       "dtype: object"
      ]
     },
     "execution_count": 26,
     "metadata": {},
     "output_type": "execute_result"
    }
   ],
   "source": [
    "lat = later[['Name', 'TED', 'Job hopping']]\n",
    "lat.replace('Not Stated', 0, inplace = True)\n",
    "lat.dtypes"
   ]
  },
  {
   "cell_type": "code",
   "execution_count": 27,
   "metadata": {},
   "outputs": [
    {
     "name": "stderr",
     "output_type": "stream",
     "text": [
      "C:\\Users\\Nachi\\Anaconda3\\lib\\site-packages\\pandas\\core\\generic.py:6786: SettingWithCopyWarning: \n",
      "A value is trying to be set on a copy of a slice from a DataFrame\n",
      "\n",
      "See the caveats in the documentation: http://pandas.pydata.org/pandas-docs/stable/user_guide/indexing.html#returning-a-view-versus-a-copy\n",
      "  self._update_inplace(new_data)\n",
      "C:\\Users\\Nachi\\Anaconda3\\lib\\site-packages\\ipykernel_launcher.py:3: SettingWithCopyWarning: \n",
      "A value is trying to be set on a copy of a slice from a DataFrame.\n",
      "Try using .loc[row_indexer,col_indexer] = value instead\n",
      "\n",
      "See the caveats in the documentation: http://pandas.pydata.org/pandas-docs/stable/user_guide/indexing.html#returning-a-view-versus-a-copy\n",
      "  This is separate from the ipykernel package so we can avoid doing imports until\n",
      "C:\\Users\\Nachi\\Anaconda3\\lib\\site-packages\\ipykernel_launcher.py:5: SettingWithCopyWarning: \n",
      "A value is trying to be set on a copy of a slice from a DataFrame\n",
      "\n",
      "See the caveats in the documentation: http://pandas.pydata.org/pandas-docs/stable/user_guide/indexing.html#returning-a-view-versus-a-copy\n",
      "  \"\"\"\n"
     ]
    },
    {
     "data": {
      "text/plain": [
       "Index(['Name', 'Age', 'Gender', 'Office applied', 'A-qual', 'A-qual-rank',\n",
       "       'TED', 'TEP', 'Current position', 'Job hopping', 'Phone Number',\n",
       "       'E-mail', 'loyalty-rank'],\n",
       "      dtype='object')"
      ]
     },
     "execution_count": 27,
     "metadata": {},
     "output_type": "execute_result"
    }
   ],
   "source": [
    "lat['TED'].replace(0, 1, inplace = True)\n",
    "lat['Job hopping'].replace(0, 1, inplace = True)\n",
    "later['loyalty-rank'] = (lat['TED']/(lat['Job hopping'] + lat['TED'])) * 10\n",
    "later['TED'].replace('Not Stated', np.nan, inplace = True)\n",
    "later.sort_values('TED',ascending = False, axis = 0, na_position = 'last', inplace = True )\n",
    "later.columns"
   ]
  },
  {
   "cell_type": "code",
   "execution_count": 28,
   "metadata": {},
   "outputs": [
    {
     "data": {
      "text/plain": [
       "45"
      ]
     },
     "execution_count": 28,
     "metadata": {},
     "output_type": "execute_result"
    }
   ],
   "source": [
    "len(later)"
   ]
  },
  {
   "cell_type": "code",
   "execution_count": 29,
   "metadata": {},
   "outputs": [
    {
     "data": {
      "text/html": [
       "<div>\n",
       "<style scoped>\n",
       "    .dataframe tbody tr th:only-of-type {\n",
       "        vertical-align: middle;\n",
       "    }\n",
       "\n",
       "    .dataframe tbody tr th {\n",
       "        vertical-align: top;\n",
       "    }\n",
       "\n",
       "    .dataframe thead th {\n",
       "        text-align: right;\n",
       "    }\n",
       "</style>\n",
       "<table border=\"1\" class=\"dataframe\">\n",
       "  <thead>\n",
       "    <tr style=\"text-align: right;\">\n",
       "      <th></th>\n",
       "      <th>Age</th>\n",
       "      <th>Gender</th>\n",
       "      <th>Office applied</th>\n",
       "      <th>A-qual</th>\n",
       "      <th>TED</th>\n",
       "      <th>A-qual-rank</th>\n",
       "      <th>loyalty-rank</th>\n",
       "      <th>Phone Number</th>\n",
       "      <th>E-mail</th>\n",
       "    </tr>\n",
       "    <tr>\n",
       "      <th>Name</th>\n",
       "      <th></th>\n",
       "      <th></th>\n",
       "      <th></th>\n",
       "      <th></th>\n",
       "      <th></th>\n",
       "      <th></th>\n",
       "      <th></th>\n",
       "      <th></th>\n",
       "      <th></th>\n",
       "    </tr>\n",
       "  </thead>\n",
       "  <tbody>\n",
       "    <tr>\n",
       "      <td>Olawumi,Oluyemi Charles</td>\n",
       "      <td>51</td>\n",
       "      <td>Male</td>\n",
       "      <td>Principal</td>\n",
       "      <td>M.Ed.</td>\n",
       "      <td>25.0</td>\n",
       "      <td>3.750</td>\n",
       "      <td>9.259259</td>\n",
       "      <td>08067534755 (WhatsApp only), 07068753333</td>\n",
       "      <td>charles.olawumi88@gmail.com, olawumicharles993...</td>\n",
       "    </tr>\n",
       "    <tr>\n",
       "      <td>OMOLODUN, FRANCIS GBOLAHAN</td>\n",
       "      <td>50</td>\n",
       "      <td>Male</td>\n",
       "      <td>Vice Principal</td>\n",
       "      <td>M.Ed.,B.Ed.</td>\n",
       "      <td>23.0</td>\n",
       "      <td>6.875</td>\n",
       "      <td>8.846154</td>\n",
       "      <td>07032171277, 08023863907</td>\n",
       "      <td>omolodunfrancis@yahoo.com nadeyway@yahoo.co.uk</td>\n",
       "    </tr>\n",
       "    <tr>\n",
       "      <td>Fadoju .Jessica, Chioma, Olubukola</td>\n",
       "      <td>48</td>\n",
       "      <td>Female</td>\n",
       "      <td>Principal</td>\n",
       "      <td>B.Ed.,M.Ed.</td>\n",
       "      <td>18.0</td>\n",
       "      <td>6.875</td>\n",
       "      <td>8.181818</td>\n",
       "      <td>08034394225, 08083890671</td>\n",
       "      <td>fadojujess@yahoo.com</td>\n",
       "    </tr>\n",
       "    <tr>\n",
       "      <td>OKAFOR ANTHONY CHIEDU</td>\n",
       "      <td>41</td>\n",
       "      <td>Male</td>\n",
       "      <td>Vice Principal</td>\n",
       "      <td>B.Eng.,PGDE,M.Sc.</td>\n",
       "      <td>17.0</td>\n",
       "      <td>6.250</td>\n",
       "      <td>8.500000</td>\n",
       "      <td>08035193777, 08024428963</td>\n",
       "      <td>chitonero@yahoo.com</td>\n",
       "    </tr>\n",
       "    <tr>\n",
       "      <td>ANDREW EDET</td>\n",
       "      <td>35</td>\n",
       "      <td>Male</td>\n",
       "      <td>Principal</td>\n",
       "      <td>OND,NCE,B.Sc.</td>\n",
       "      <td>17.0</td>\n",
       "      <td>3.125</td>\n",
       "      <td>9.444444</td>\n",
       "      <td>08087688652, 07032467495</td>\n",
       "      <td>kingandrewnsa@gmail.com</td>\n",
       "    </tr>\n",
       "  </tbody>\n",
       "</table>\n",
       "</div>"
      ],
      "text/plain": [
       "                                    Age  Gender  Office applied  \\\n",
       "Name                                                              \n",
       "Olawumi,Oluyemi Charles              51    Male      Principal    \n",
       "OMOLODUN, FRANCIS GBOLAHAN           50    Male  Vice Principal   \n",
       "Fadoju .Jessica, Chioma, Olubukola   48  Female      Principal    \n",
       "OKAFOR ANTHONY CHIEDU                41    Male  Vice Principal   \n",
       "ANDREW EDET                          35    Male      Principal    \n",
       "\n",
       "                                               A-qual   TED  A-qual-rank  \\\n",
       "Name                                                                       \n",
       "Olawumi,Oluyemi Charles                         M.Ed.  25.0        3.750   \n",
       "OMOLODUN, FRANCIS GBOLAHAN                M.Ed.,B.Ed.  23.0        6.875   \n",
       "Fadoju .Jessica, Chioma, Olubukola        B.Ed.,M.Ed.  18.0        6.875   \n",
       "OKAFOR ANTHONY CHIEDU               B.Eng.,PGDE,M.Sc.  17.0        6.250   \n",
       "ANDREW EDET                             OND,NCE,B.Sc.  17.0        3.125   \n",
       "\n",
       "                                    loyalty-rank  \\\n",
       "Name                                               \n",
       "Olawumi,Oluyemi Charles                 9.259259   \n",
       "OMOLODUN, FRANCIS GBOLAHAN              8.846154   \n",
       "Fadoju .Jessica, Chioma, Olubukola      8.181818   \n",
       "OKAFOR ANTHONY CHIEDU                   8.500000   \n",
       "ANDREW EDET                             9.444444   \n",
       "\n",
       "                                                                Phone Number  \\\n",
       "Name                                                                           \n",
       "Olawumi,Oluyemi Charles             08067534755 (WhatsApp only), 07068753333   \n",
       "OMOLODUN, FRANCIS GBOLAHAN                          07032171277, 08023863907   \n",
       "Fadoju .Jessica, Chioma, Olubukola                  08034394225, 08083890671   \n",
       "OKAFOR ANTHONY CHIEDU                               08035193777, 08024428963   \n",
       "ANDREW EDET                                         08087688652, 07032467495   \n",
       "\n",
       "                                                                               E-mail  \n",
       "Name                                                                                   \n",
       "Olawumi,Oluyemi Charles             charles.olawumi88@gmail.com, olawumicharles993...  \n",
       "OMOLODUN, FRANCIS GBOLAHAN             omolodunfrancis@yahoo.com nadeyway@yahoo.co.uk  \n",
       "Fadoju .Jessica, Chioma, Olubukola                               fadojujess@yahoo.com  \n",
       "OKAFOR ANTHONY CHIEDU                                             chitonero@yahoo.com  \n",
       "ANDREW EDET                                                   kingandrewnsa@gmail.com  "
      ]
     },
     "execution_count": 29,
     "metadata": {},
     "output_type": "execute_result"
    }
   ],
   "source": [
    "nw_fr = later[['Name', 'Age', 'Gender', 'Office applied', 'A-qual', 'TED', 'A-qual-rank','loyalty-rank', 'Phone Number',\n",
    "       'E-mail']]\n",
    "nw_fr.set_index('Name').head() #first 5 applicants"
   ]
  },
  {
   "cell_type": "code",
   "execution_count": 30,
   "metadata": {},
   "outputs": [],
   "source": [
    "opt = ['Vice Principal','Principal ', 'Teaching Staff', 'Mathematics Teacher','Basic Science Teacher','Civic Education Teacher'\n",
    "          ,'English Language Teacher']\n",
    "\n",
    "#function to create job post dataframes\n",
    "def job(dd, y):\n",
    "    return dd.groupby('Office applied').get_group(y).set_index('Name')\n",
    "\n",
    "vp_df = job(nw_fr, opt[0])\n",
    "p_df = job(nw_fr, opt[1])\n",
    "Teach_df = job(nw_fr, opt[2])\n",
    "Math_df = job(nw_fr, opt[3])\n",
    "basicsci_df = job(nw_fr, opt[4])\n",
    "civic_df = job(nw_fr, opt[5])\n",
    "english_df = job(nw_fr, opt[6])"
   ]
  },
  {
   "cell_type": "markdown",
   "metadata": {},
   "source": [
    "The next 7 plots are visualizations of the filtered data. By discretion, the hiring team can determine the top 2 or 3 best applicants for a subseqent and critical CV review."
   ]
  },
  {
   "cell_type": "markdown",
   "metadata": {},
   "source": [
    "**For the Vice principal's post**"
   ]
  },
  {
   "cell_type": "code",
   "execution_count": 31,
   "metadata": {},
   "outputs": [
    {
     "data": {
      "text/html": [
       "<div>\n",
       "<style scoped>\n",
       "    .dataframe tbody tr th:only-of-type {\n",
       "        vertical-align: middle;\n",
       "    }\n",
       "\n",
       "    .dataframe tbody tr th {\n",
       "        vertical-align: top;\n",
       "    }\n",
       "\n",
       "    .dataframe thead th {\n",
       "        text-align: right;\n",
       "    }\n",
       "</style>\n",
       "<table border=\"1\" class=\"dataframe\">\n",
       "  <thead>\n",
       "    <tr style=\"text-align: right;\">\n",
       "      <th></th>\n",
       "      <th>Age</th>\n",
       "      <th>Gender</th>\n",
       "      <th>Office applied</th>\n",
       "      <th>A-qual</th>\n",
       "      <th>TED</th>\n",
       "      <th>A-qual-rank</th>\n",
       "      <th>loyalty-rank</th>\n",
       "      <th>Phone Number</th>\n",
       "      <th>E-mail</th>\n",
       "    </tr>\n",
       "    <tr>\n",
       "      <th>Name</th>\n",
       "      <th></th>\n",
       "      <th></th>\n",
       "      <th></th>\n",
       "      <th></th>\n",
       "      <th></th>\n",
       "      <th></th>\n",
       "      <th></th>\n",
       "      <th></th>\n",
       "      <th></th>\n",
       "    </tr>\n",
       "  </thead>\n",
       "  <tbody>\n",
       "    <tr>\n",
       "      <td>OMOLODUN, FRANCIS GBOLAHAN</td>\n",
       "      <td>50</td>\n",
       "      <td>Male</td>\n",
       "      <td>Vice Principal</td>\n",
       "      <td>M.Ed.,B.Ed.</td>\n",
       "      <td>23.0</td>\n",
       "      <td>6.875</td>\n",
       "      <td>8.846154</td>\n",
       "      <td>07032171277, 08023863907</td>\n",
       "      <td>omolodunfrancis@yahoo.com nadeyway@yahoo.co.uk</td>\n",
       "    </tr>\n",
       "    <tr>\n",
       "      <td>OKAFOR ANTHONY CHIEDU</td>\n",
       "      <td>41</td>\n",
       "      <td>Male</td>\n",
       "      <td>Vice Principal</td>\n",
       "      <td>B.Eng.,PGDE,M.Sc.</td>\n",
       "      <td>17.0</td>\n",
       "      <td>6.250</td>\n",
       "      <td>8.500000</td>\n",
       "      <td>08035193777, 08024428963</td>\n",
       "      <td>chitonero@yahoo.com</td>\n",
       "    </tr>\n",
       "    <tr>\n",
       "      <td>JOLOMI VICTOR JOSEPH</td>\n",
       "      <td>37</td>\n",
       "      <td>Male</td>\n",
       "      <td>Vice Principal</td>\n",
       "      <td>B.Ed.</td>\n",
       "      <td>15.0</td>\n",
       "      <td>3.125</td>\n",
       "      <td>7.894737</td>\n",
       "      <td>08140906048; 08164288254.</td>\n",
       "      <td>profjjvictor2@gmail.com</td>\n",
       "    </tr>\n",
       "    <tr>\n",
       "      <td>ADEJUMO TIMOTHY OLUWOLE</td>\n",
       "      <td>38</td>\n",
       "      <td>Male</td>\n",
       "      <td>Vice Principal</td>\n",
       "      <td>M.A,B.Sc.</td>\n",
       "      <td>14.0</td>\n",
       "      <td>3.750</td>\n",
       "      <td>6.363636</td>\n",
       "      <td>8072778227</td>\n",
       "      <td>timothyoluwole@yahoo.com</td>\n",
       "    </tr>\n",
       "    <tr>\n",
       "      <td>Babatunde Ogunwole</td>\n",
       "      <td>38</td>\n",
       "      <td>Male</td>\n",
       "      <td>Vice Principal</td>\n",
       "      <td>NCE,B.Ed.,M.Ed.</td>\n",
       "      <td>12.0</td>\n",
       "      <td>7.500</td>\n",
       "      <td>9.230769</td>\n",
       "      <td>08030438639, 08096690338</td>\n",
       "      <td>babatunde16ogunwole@yahoo.com</td>\n",
       "    </tr>\n",
       "    <tr>\n",
       "      <td>BLESSING MUSA</td>\n",
       "      <td>0</td>\n",
       "      <td>Female</td>\n",
       "      <td>Vice Principal</td>\n",
       "      <td>NCE,M.A,B.A</td>\n",
       "      <td>11.0</td>\n",
       "      <td>4.375</td>\n",
       "      <td>9.166667</td>\n",
       "      <td>+2347038188880;</td>\n",
       "      <td>gohiomo@gmail.com</td>\n",
       "    </tr>\n",
       "    <tr>\n",
       "      <td>ADEBOWALE, Alaba Michael</td>\n",
       "      <td>36</td>\n",
       "      <td>Male</td>\n",
       "      <td>Vice Principal</td>\n",
       "      <td>B.Tech.,PGDE</td>\n",
       "      <td>11.0</td>\n",
       "      <td>4.375</td>\n",
       "      <td>7.333333</td>\n",
       "      <td>0806 324 3412, 08073333837</td>\n",
       "      <td>mike1aflon@gmail.com</td>\n",
       "    </tr>\n",
       "    <tr>\n",
       "      <td>IGWE, Ebenezer Ndubuisi</td>\n",
       "      <td>34</td>\n",
       "      <td>Male</td>\n",
       "      <td>Vice Principal</td>\n",
       "      <td>M.Ed.,B.Sc.</td>\n",
       "      <td>11.0</td>\n",
       "      <td>5.625</td>\n",
       "      <td>4.782609</td>\n",
       "      <td>+234(0)8063310565, +234(0)8025620938</td>\n",
       "      <td>igweebenezerndubuisi@gmail.com</td>\n",
       "    </tr>\n",
       "    <tr>\n",
       "      <td>ADEOYE BENEDICT SOTUBO</td>\n",
       "      <td>39</td>\n",
       "      <td>Male</td>\n",
       "      <td>Vice Principal</td>\n",
       "      <td>B.Sc.,OND</td>\n",
       "      <td>10.0</td>\n",
       "      <td>2.500</td>\n",
       "      <td>9.090909</td>\n",
       "      <td>08125587906, 07034271072</td>\n",
       "      <td>Obasot2003@yahoo.com</td>\n",
       "    </tr>\n",
       "    <tr>\n",
       "      <td>Orhokomua Omonigho Philip</td>\n",
       "      <td>35</td>\n",
       "      <td>Male</td>\n",
       "      <td>Vice Principal</td>\n",
       "      <td>B.Sc.,PGDE,Dip</td>\n",
       "      <td>9.0</td>\n",
       "      <td>5.000</td>\n",
       "      <td>8.181818</td>\n",
       "      <td>7061074472</td>\n",
       "      <td>philip4glory@gmail.com</td>\n",
       "    </tr>\n",
       "    <tr>\n",
       "      <td>David Adesoji Johnson</td>\n",
       "      <td>0</td>\n",
       "      <td>Male</td>\n",
       "      <td>Vice Principal</td>\n",
       "      <td>B.Ed.,M.A</td>\n",
       "      <td>8.0</td>\n",
       "      <td>5.000</td>\n",
       "      <td>8.888889</td>\n",
       "      <td>8034485988</td>\n",
       "      <td>davidadesojijohnson@gmail.com</td>\n",
       "    </tr>\n",
       "    <tr>\n",
       "      <td>NGOZI UGWU</td>\n",
       "      <td>0</td>\n",
       "      <td>Female</td>\n",
       "      <td>Vice Principal</td>\n",
       "      <td>OND,HND</td>\n",
       "      <td>7.0</td>\n",
       "      <td>1.875</td>\n",
       "      <td>8.750000</td>\n",
       "      <td>09062679506/ 08168486695</td>\n",
       "      <td>hillshope5@gmail.com</td>\n",
       "    </tr>\n",
       "    <tr>\n",
       "      <td>IBEH, Peter Onyeka</td>\n",
       "      <td>39</td>\n",
       "      <td>Male</td>\n",
       "      <td>Vice Principal</td>\n",
       "      <td>B.Ed.,M.Ed.,PGDE</td>\n",
       "      <td>3.0</td>\n",
       "      <td>9.375</td>\n",
       "      <td>7.500000</td>\n",
       "      <td>+234 8063773872</td>\n",
       "      <td>opeters4ever@yahoo.com</td>\n",
       "    </tr>\n",
       "  </tbody>\n",
       "</table>\n",
       "</div>"
      ],
      "text/plain": [
       "                            Age  Gender  Office applied             A-qual  \\\n",
       "Name                                                                         \n",
       "OMOLODUN, FRANCIS GBOLAHAN   50    Male  Vice Principal        M.Ed.,B.Ed.   \n",
       "OKAFOR ANTHONY CHIEDU        41    Male  Vice Principal  B.Eng.,PGDE,M.Sc.   \n",
       "JOLOMI VICTOR JOSEPH         37    Male  Vice Principal              B.Ed.   \n",
       "ADEJUMO TIMOTHY OLUWOLE      38    Male  Vice Principal          M.A,B.Sc.   \n",
       "Babatunde Ogunwole           38    Male  Vice Principal    NCE,B.Ed.,M.Ed.   \n",
       "BLESSING MUSA                 0  Female  Vice Principal        NCE,M.A,B.A   \n",
       "ADEBOWALE, Alaba Michael     36    Male  Vice Principal       B.Tech.,PGDE   \n",
       "IGWE, Ebenezer Ndubuisi      34    Male  Vice Principal        M.Ed.,B.Sc.   \n",
       "ADEOYE BENEDICT SOTUBO       39    Male  Vice Principal          B.Sc.,OND   \n",
       "Orhokomua Omonigho Philip    35    Male  Vice Principal     B.Sc.,PGDE,Dip   \n",
       "David Adesoji Johnson         0    Male  Vice Principal          B.Ed.,M.A   \n",
       "NGOZI UGWU                    0  Female  Vice Principal            OND,HND   \n",
       "IBEH, Peter Onyeka           39    Male  Vice Principal   B.Ed.,M.Ed.,PGDE   \n",
       "\n",
       "                             TED  A-qual-rank  loyalty-rank  \\\n",
       "Name                                                          \n",
       "OMOLODUN, FRANCIS GBOLAHAN  23.0        6.875      8.846154   \n",
       "OKAFOR ANTHONY CHIEDU       17.0        6.250      8.500000   \n",
       "JOLOMI VICTOR JOSEPH        15.0        3.125      7.894737   \n",
       "ADEJUMO TIMOTHY OLUWOLE     14.0        3.750      6.363636   \n",
       "Babatunde Ogunwole          12.0        7.500      9.230769   \n",
       "BLESSING MUSA               11.0        4.375      9.166667   \n",
       "ADEBOWALE, Alaba Michael    11.0        4.375      7.333333   \n",
       "IGWE, Ebenezer Ndubuisi     11.0        5.625      4.782609   \n",
       "ADEOYE BENEDICT SOTUBO      10.0        2.500      9.090909   \n",
       "Orhokomua Omonigho Philip    9.0        5.000      8.181818   \n",
       "David Adesoji Johnson        8.0        5.000      8.888889   \n",
       "NGOZI UGWU                   7.0        1.875      8.750000   \n",
       "IBEH, Peter Onyeka           3.0        9.375      7.500000   \n",
       "\n",
       "                                                    Phone Number  \\\n",
       "Name                                                               \n",
       "OMOLODUN, FRANCIS GBOLAHAN              07032171277, 08023863907   \n",
       "OKAFOR ANTHONY CHIEDU                   08035193777, 08024428963   \n",
       "JOLOMI VICTOR JOSEPH                   08140906048; 08164288254.   \n",
       "ADEJUMO TIMOTHY OLUWOLE                               8072778227   \n",
       "Babatunde Ogunwole                      08030438639, 08096690338   \n",
       "BLESSING MUSA                                    +2347038188880;   \n",
       "ADEBOWALE, Alaba Michael              0806 324 3412, 08073333837   \n",
       "IGWE, Ebenezer Ndubuisi     +234(0)8063310565, +234(0)8025620938   \n",
       "ADEOYE BENEDICT SOTUBO                  08125587906, 07034271072   \n",
       "Orhokomua Omonigho Philip                             7061074472   \n",
       "David Adesoji Johnson                                 8034485988   \n",
       "NGOZI UGWU                              09062679506/ 08168486695   \n",
       "IBEH, Peter Onyeka                               +234 8063773872   \n",
       "\n",
       "                                                                    E-mail  \n",
       "Name                                                                        \n",
       "OMOLODUN, FRANCIS GBOLAHAN  omolodunfrancis@yahoo.com nadeyway@yahoo.co.uk  \n",
       "OKAFOR ANTHONY CHIEDU                                  chitonero@yahoo.com  \n",
       "JOLOMI VICTOR JOSEPH                               profjjvictor2@gmail.com  \n",
       "ADEJUMO TIMOTHY OLUWOLE                           timothyoluwole@yahoo.com  \n",
       "Babatunde Ogunwole                           babatunde16ogunwole@yahoo.com  \n",
       "BLESSING MUSA                                            gohiomo@gmail.com  \n",
       "ADEBOWALE, Alaba Michael                              mike1aflon@gmail.com  \n",
       "IGWE, Ebenezer Ndubuisi                     igweebenezerndubuisi@gmail.com  \n",
       "ADEOYE BENEDICT SOTUBO                                Obasot2003@yahoo.com  \n",
       "Orhokomua Omonigho Philip                           philip4glory@gmail.com  \n",
       "David Adesoji Johnson                        davidadesojijohnson@gmail.com  \n",
       "NGOZI UGWU                                            hillshope5@gmail.com  \n",
       "IBEH, Peter Onyeka                                  opeters4ever@yahoo.com  "
      ]
     },
     "execution_count": 31,
     "metadata": {},
     "output_type": "execute_result"
    }
   ],
   "source": [
    "vp_df"
   ]
  },
  {
   "cell_type": "code",
   "execution_count": 32,
   "metadata": {},
   "outputs": [
    {
     "data": {
      "text/plain": [
       "Text(0.5, 1.0, 'VP applicants bar plot')"
      ]
     },
     "execution_count": 32,
     "metadata": {},
     "output_type": "execute_result"
    },
    {
     "data": {
      "image/png": "[encoded data removed]",
      "text/plain": [
       "<Figure size 936x936 with 1 Axes>"
      ]
     },
     "metadata": {
      "needs_background": "light"
     },
     "output_type": "display_data"
    }
   ],
   "source": [
    "vp_df.plot(kind = 'barh', figsize= (13,13), grid = True)\n",
    "plt.title('VP applicants bar plot')"
   ]
  },
  {
   "cell_type": "markdown",
   "metadata": {},
   "source": [
    "**For the Principal's post**"
   ]
  },
  {
   "cell_type": "code",
   "execution_count": 33,
   "metadata": {},
   "outputs": [
    {
     "data": {
      "text/html": [
       "<div>\n",
       "<style scoped>\n",
       "    .dataframe tbody tr th:only-of-type {\n",
       "        vertical-align: middle;\n",
       "    }\n",
       "\n",
       "    .dataframe tbody tr th {\n",
       "        vertical-align: top;\n",
       "    }\n",
       "\n",
       "    .dataframe thead th {\n",
       "        text-align: right;\n",
       "    }\n",
       "</style>\n",
       "<table border=\"1\" class=\"dataframe\">\n",
       "  <thead>\n",
       "    <tr style=\"text-align: right;\">\n",
       "      <th></th>\n",
       "      <th>Age</th>\n",
       "      <th>Gender</th>\n",
       "      <th>Office applied</th>\n",
       "      <th>A-qual</th>\n",
       "      <th>TED</th>\n",
       "      <th>A-qual-rank</th>\n",
       "      <th>loyalty-rank</th>\n",
       "      <th>Phone Number</th>\n",
       "      <th>E-mail</th>\n",
       "    </tr>\n",
       "    <tr>\n",
       "      <th>Name</th>\n",
       "      <th></th>\n",
       "      <th></th>\n",
       "      <th></th>\n",
       "      <th></th>\n",
       "      <th></th>\n",
       "      <th></th>\n",
       "      <th></th>\n",
       "      <th></th>\n",
       "      <th></th>\n",
       "    </tr>\n",
       "  </thead>\n",
       "  <tbody>\n",
       "    <tr>\n",
       "      <td>Olawumi,Oluyemi Charles</td>\n",
       "      <td>51</td>\n",
       "      <td>Male</td>\n",
       "      <td>Principal</td>\n",
       "      <td>M.Ed.</td>\n",
       "      <td>25.0</td>\n",
       "      <td>3.750</td>\n",
       "      <td>9.259259</td>\n",
       "      <td>08067534755 (WhatsApp only), 07068753333</td>\n",
       "      <td>charles.olawumi88@gmail.com, olawumicharles993...</td>\n",
       "    </tr>\n",
       "    <tr>\n",
       "      <td>Fadoju .Jessica, Chioma, Olubukola</td>\n",
       "      <td>48</td>\n",
       "      <td>Female</td>\n",
       "      <td>Principal</td>\n",
       "      <td>B.Ed.,M.Ed.</td>\n",
       "      <td>18.0</td>\n",
       "      <td>6.875</td>\n",
       "      <td>8.181818</td>\n",
       "      <td>08034394225, 08083890671</td>\n",
       "      <td>fadojujess@yahoo.com</td>\n",
       "    </tr>\n",
       "    <tr>\n",
       "      <td>ANDREW EDET</td>\n",
       "      <td>35</td>\n",
       "      <td>Male</td>\n",
       "      <td>Principal</td>\n",
       "      <td>OND,NCE,B.Sc.</td>\n",
       "      <td>17.0</td>\n",
       "      <td>3.125</td>\n",
       "      <td>9.444444</td>\n",
       "      <td>08087688652, 07032467495</td>\n",
       "      <td>kingandrewnsa@gmail.com</td>\n",
       "    </tr>\n",
       "    <tr>\n",
       "      <td>ADEJUMO TIMOTHY OLUWOLE</td>\n",
       "      <td>38</td>\n",
       "      <td>Male</td>\n",
       "      <td>Principal</td>\n",
       "      <td>M.A,B.Sc.</td>\n",
       "      <td>14.0</td>\n",
       "      <td>3.750</td>\n",
       "      <td>6.363636</td>\n",
       "      <td>8072778227</td>\n",
       "      <td>timothyoluwole@yahoo.com</td>\n",
       "    </tr>\n",
       "    <tr>\n",
       "      <td>BLESSING MUSA</td>\n",
       "      <td>0</td>\n",
       "      <td>Female</td>\n",
       "      <td>Principal</td>\n",
       "      <td>NCE,M.A,B.A</td>\n",
       "      <td>11.0</td>\n",
       "      <td>4.375</td>\n",
       "      <td>9.166667</td>\n",
       "      <td>+2347038188880;</td>\n",
       "      <td>gohiomo@gmail.com</td>\n",
       "    </tr>\n",
       "    <tr>\n",
       "      <td>ADEBOWALE, Alaba Michael</td>\n",
       "      <td>36</td>\n",
       "      <td>Male</td>\n",
       "      <td>Principal</td>\n",
       "      <td>B.Tech.,PGDE</td>\n",
       "      <td>11.0</td>\n",
       "      <td>4.375</td>\n",
       "      <td>7.333333</td>\n",
       "      <td>0806 324 3412, 08073333837</td>\n",
       "      <td>mike1aflon@gmail.com</td>\n",
       "    </tr>\n",
       "    <tr>\n",
       "      <td>Orhokomua Omonigho Philip</td>\n",
       "      <td>35</td>\n",
       "      <td>Male</td>\n",
       "      <td>Principal</td>\n",
       "      <td>B.Sc.,PGDE,Dip</td>\n",
       "      <td>9.0</td>\n",
       "      <td>5.000</td>\n",
       "      <td>8.181818</td>\n",
       "      <td>7061074472</td>\n",
       "      <td>philip4glory@gmail.com</td>\n",
       "    </tr>\n",
       "    <tr>\n",
       "      <td>David Adesoji Johnson</td>\n",
       "      <td>0</td>\n",
       "      <td>Male</td>\n",
       "      <td>Principal</td>\n",
       "      <td>B.Ed.,M.A</td>\n",
       "      <td>8.0</td>\n",
       "      <td>5.000</td>\n",
       "      <td>8.888889</td>\n",
       "      <td>8034485988</td>\n",
       "      <td>davidadesojijohnson@gmail.com</td>\n",
       "    </tr>\n",
       "    <tr>\n",
       "      <td>BABALOLA OLUWASHOLA AMOS</td>\n",
       "      <td>36</td>\n",
       "      <td>Male</td>\n",
       "      <td>Principal</td>\n",
       "      <td>B.Ed.,PGD</td>\n",
       "      <td>8.0</td>\n",
       "      <td>3.125</td>\n",
       "      <td>6.153846</td>\n",
       "      <td>7030684141</td>\n",
       "      <td>babalolaoluwashola@gmail.com</td>\n",
       "    </tr>\n",
       "    <tr>\n",
       "      <td>NGOZI UGWU</td>\n",
       "      <td>0</td>\n",
       "      <td>Female</td>\n",
       "      <td>Principal</td>\n",
       "      <td>OND,HND</td>\n",
       "      <td>7.0</td>\n",
       "      <td>1.875</td>\n",
       "      <td>8.750000</td>\n",
       "      <td>09062679506/ 08168486695</td>\n",
       "      <td>hillshope5@gmail.com</td>\n",
       "    </tr>\n",
       "    <tr>\n",
       "      <td>OKONOFUA DAVID OZIEGBE</td>\n",
       "      <td>35</td>\n",
       "      <td>Male</td>\n",
       "      <td>Principal</td>\n",
       "      <td>B.Ed.</td>\n",
       "      <td>6.0</td>\n",
       "      <td>3.125</td>\n",
       "      <td>8.571429</td>\n",
       "      <td>08029578093. 07062844164</td>\n",
       "      <td>davidokonofua72@yahoo.com</td>\n",
       "    </tr>\n",
       "  </tbody>\n",
       "</table>\n",
       "</div>"
      ],
      "text/plain": [
       "                                    Age  Gender Office applied  \\\n",
       "Name                                                             \n",
       "Olawumi,Oluyemi Charles              51    Male     Principal    \n",
       "Fadoju .Jessica, Chioma, Olubukola   48  Female     Principal    \n",
       "ANDREW EDET                          35    Male     Principal    \n",
       "ADEJUMO TIMOTHY OLUWOLE              38    Male     Principal    \n",
       "BLESSING MUSA                         0  Female     Principal    \n",
       "ADEBOWALE, Alaba Michael             36    Male     Principal    \n",
       "Orhokomua Omonigho Philip            35    Male     Principal    \n",
       "David Adesoji Johnson                 0    Male     Principal    \n",
       "BABALOLA OLUWASHOLA AMOS             36    Male     Principal    \n",
       "NGOZI UGWU                            0  Female     Principal    \n",
       "OKONOFUA DAVID OZIEGBE               35    Male     Principal    \n",
       "\n",
       "                                            A-qual   TED  A-qual-rank  \\\n",
       "Name                                                                    \n",
       "Olawumi,Oluyemi Charles                      M.Ed.  25.0        3.750   \n",
       "Fadoju .Jessica, Chioma, Olubukola     B.Ed.,M.Ed.  18.0        6.875   \n",
       "ANDREW EDET                          OND,NCE,B.Sc.  17.0        3.125   \n",
       "ADEJUMO TIMOTHY OLUWOLE                  M.A,B.Sc.  14.0        3.750   \n",
       "BLESSING MUSA                          NCE,M.A,B.A  11.0        4.375   \n",
       "ADEBOWALE, Alaba Michael              B.Tech.,PGDE  11.0        4.375   \n",
       "Orhokomua Omonigho Philip           B.Sc.,PGDE,Dip   9.0        5.000   \n",
       "David Adesoji Johnson                    B.Ed.,M.A   8.0        5.000   \n",
       "BABALOLA OLUWASHOLA AMOS                 B.Ed.,PGD   8.0        3.125   \n",
       "NGOZI UGWU                                 OND,HND   7.0        1.875   \n",
       "OKONOFUA DAVID OZIEGBE                       B.Ed.   6.0        3.125   \n",
       "\n",
       "                                    loyalty-rank  \\\n",
       "Name                                               \n",
       "Olawumi,Oluyemi Charles                 9.259259   \n",
       "Fadoju .Jessica, Chioma, Olubukola      8.181818   \n",
       "ANDREW EDET                             9.444444   \n",
       "ADEJUMO TIMOTHY OLUWOLE                 6.363636   \n",
       "BLESSING MUSA                           9.166667   \n",
       "ADEBOWALE, Alaba Michael                7.333333   \n",
       "Orhokomua Omonigho Philip               8.181818   \n",
       "David Adesoji Johnson                   8.888889   \n",
       "BABALOLA OLUWASHOLA AMOS                6.153846   \n",
       "NGOZI UGWU                              8.750000   \n",
       "OKONOFUA DAVID OZIEGBE                  8.571429   \n",
       "\n",
       "                                                                Phone Number  \\\n",
       "Name                                                                           \n",
       "Olawumi,Oluyemi Charles             08067534755 (WhatsApp only), 07068753333   \n",
       "Fadoju .Jessica, Chioma, Olubukola                  08034394225, 08083890671   \n",
       "ANDREW EDET                                         08087688652, 07032467495   \n",
       "ADEJUMO TIMOTHY OLUWOLE                                           8072778227   \n",
       "BLESSING MUSA                                                +2347038188880;   \n",
       "ADEBOWALE, Alaba Michael                          0806 324 3412, 08073333837   \n",
       "Orhokomua Omonigho Philip                                         7061074472   \n",
       "David Adesoji Johnson                                             8034485988   \n",
       "BABALOLA OLUWASHOLA AMOS                                          7030684141   \n",
       "NGOZI UGWU                                          09062679506/ 08168486695   \n",
       "OKONOFUA DAVID OZIEGBE                              08029578093. 07062844164   \n",
       "\n",
       "                                                                               E-mail  \n",
       "Name                                                                                   \n",
       "Olawumi,Oluyemi Charles             charles.olawumi88@gmail.com, olawumicharles993...  \n",
       "Fadoju .Jessica, Chioma, Olubukola                               fadojujess@yahoo.com  \n",
       "ANDREW EDET                                                   kingandrewnsa@gmail.com  \n",
       "ADEJUMO TIMOTHY OLUWOLE                                      timothyoluwole@yahoo.com  \n",
       "BLESSING MUSA                                                       gohiomo@gmail.com  \n",
       "ADEBOWALE, Alaba Michael                                         mike1aflon@gmail.com  \n",
       "Orhokomua Omonigho Philip                                      philip4glory@gmail.com  \n",
       "David Adesoji Johnson                                   davidadesojijohnson@gmail.com  \n",
       "BABALOLA OLUWASHOLA AMOS                                 babalolaoluwashola@gmail.com  \n",
       "NGOZI UGWU                                                       hillshope5@gmail.com  \n",
       "OKONOFUA DAVID OZIEGBE                                      davidokonofua72@yahoo.com  "
      ]
     },
     "execution_count": 33,
     "metadata": {},
     "output_type": "execute_result"
    }
   ],
   "source": [
    "p_df"
   ]
  },
  {
   "cell_type": "code",
   "execution_count": 34,
   "metadata": {},
   "outputs": [
    {
     "data": {
      "text/plain": [
       "Text(0.5, 1.0, 'Principal applicants bar plot')"
      ]
     },
     "execution_count": 34,
     "metadata": {},
     "output_type": "execute_result"
    },
    {
     "data": {
      "image/png": "[encoded data removed]",
      "text/plain": [
       "<Figure size 1296x1080 with 1 Axes>"
      ]
     },
     "metadata": {
      "needs_background": "light"
     },
     "output_type": "display_data"
    }
   ],
   "source": [
    "p_df.plot(kind = 'barh', figsize= (18, 15), grid = 'True')\n",
    "plt.title('Principal applicants bar plot')"
   ]
  },
  {
   "cell_type": "markdown",
   "metadata": {},
   "source": [
    "**Teaching staff post** note: This is exactly what was applied for in the mail to hhc"
   ]
  },
  {
   "cell_type": "code",
   "execution_count": 35,
   "metadata": {},
   "outputs": [
    {
     "data": {
      "text/html": [
       "<div>\n",
       "<style scoped>\n",
       "    .dataframe tbody tr th:only-of-type {\n",
       "        vertical-align: middle;\n",
       "    }\n",
       "\n",
       "    .dataframe tbody tr th {\n",
       "        vertical-align: top;\n",
       "    }\n",
       "\n",
       "    .dataframe thead th {\n",
       "        text-align: right;\n",
       "    }\n",
       "</style>\n",
       "<table border=\"1\" class=\"dataframe\">\n",
       "  <thead>\n",
       "    <tr style=\"text-align: right;\">\n",
       "      <th></th>\n",
       "      <th>Age</th>\n",
       "      <th>Gender</th>\n",
       "      <th>Office applied</th>\n",
       "      <th>A-qual</th>\n",
       "      <th>TED</th>\n",
       "      <th>A-qual-rank</th>\n",
       "      <th>loyalty-rank</th>\n",
       "      <th>Phone Number</th>\n",
       "      <th>E-mail</th>\n",
       "    </tr>\n",
       "    <tr>\n",
       "      <th>Name</th>\n",
       "      <th></th>\n",
       "      <th></th>\n",
       "      <th></th>\n",
       "      <th></th>\n",
       "      <th></th>\n",
       "      <th></th>\n",
       "      <th></th>\n",
       "      <th></th>\n",
       "      <th></th>\n",
       "    </tr>\n",
       "  </thead>\n",
       "  <tbody>\n",
       "    <tr>\n",
       "      <td>KEHINDE EXCEL OKE</td>\n",
       "      <td>29</td>\n",
       "      <td>Female</td>\n",
       "      <td>Teaching Staff</td>\n",
       "      <td>B.A</td>\n",
       "      <td>5.0</td>\n",
       "      <td>1.875</td>\n",
       "      <td>7.142857</td>\n",
       "      <td>8165007921</td>\n",
       "      <td>akerejahkehinde@gmail.com</td>\n",
       "    </tr>\n",
       "    <tr>\n",
       "      <td>MASELUGBO DAMILOLA JOSEPH</td>\n",
       "      <td>29</td>\n",
       "      <td>Male</td>\n",
       "      <td>Teaching Staff</td>\n",
       "      <td>NCE,B.Ed.</td>\n",
       "      <td>4.0</td>\n",
       "      <td>3.750</td>\n",
       "      <td>6.666667</td>\n",
       "      <td>8164077655</td>\n",
       "      <td>damilolajoseph22@gmail.com</td>\n",
       "    </tr>\n",
       "    <tr>\n",
       "      <td>Falade Adeyinka.</td>\n",
       "      <td>31</td>\n",
       "      <td>Male</td>\n",
       "      <td>Teaching Staff</td>\n",
       "      <td>B.Sc.</td>\n",
       "      <td>3.0</td>\n",
       "      <td>1.875</td>\n",
       "      <td>5.000000</td>\n",
       "      <td>falade.adeyinka@yahoo.com</td>\n",
       "      <td>NaN</td>\n",
       "    </tr>\n",
       "    <tr>\n",
       "      <td>ADUNDU SOLOMON TEMIDAYO</td>\n",
       "      <td>30</td>\n",
       "      <td>Male</td>\n",
       "      <td>Teaching Staff</td>\n",
       "      <td>B.Ed.</td>\n",
       "      <td>2.0</td>\n",
       "      <td>3.125</td>\n",
       "      <td>6.666667</td>\n",
       "      <td>08087849758 / 09033911049.</td>\n",
       "      <td>solomonadundu6@gmail.com</td>\n",
       "    </tr>\n",
       "    <tr>\n",
       "      <td>IBRAHIM SAMINU MUHAMMED</td>\n",
       "      <td>30</td>\n",
       "      <td>Male</td>\n",
       "      <td>Teaching Staff</td>\n",
       "      <td>B.Sc.</td>\n",
       "      <td>0.0</td>\n",
       "      <td>1.875</td>\n",
       "      <td>5.000000</td>\n",
       "      <td>08038096181, 08157984363</td>\n",
       "      <td>ibrahimsameen1@gmail.com</td>\n",
       "    </tr>\n",
       "  </tbody>\n",
       "</table>\n",
       "</div>"
      ],
      "text/plain": [
       "                           Age  Gender  Office applied     A-qual  TED  \\\n",
       "Name                                                                     \n",
       "KEHINDE EXCEL OKE           29  Female  Teaching Staff        B.A  5.0   \n",
       "MASELUGBO DAMILOLA JOSEPH   29    Male  Teaching Staff  NCE,B.Ed.  4.0   \n",
       "Falade Adeyinka.            31    Male  Teaching Staff      B.Sc.  3.0   \n",
       "ADUNDU SOLOMON TEMIDAYO     30    Male  Teaching Staff      B.Ed.  2.0   \n",
       "IBRAHIM SAMINU MUHAMMED     30    Male  Teaching Staff      B.Sc.  0.0   \n",
       "\n",
       "                           A-qual-rank  loyalty-rank  \\\n",
       "Name                                                   \n",
       "KEHINDE EXCEL OKE                1.875      7.142857   \n",
       "MASELUGBO DAMILOLA JOSEPH        3.750      6.666667   \n",
       "Falade Adeyinka.                 1.875      5.000000   \n",
       "ADUNDU SOLOMON TEMIDAYO          3.125      6.666667   \n",
       "IBRAHIM SAMINU MUHAMMED          1.875      5.000000   \n",
       "\n",
       "                                         Phone Number  \\\n",
       "Name                                                    \n",
       "KEHINDE EXCEL OKE                          8165007921   \n",
       "MASELUGBO DAMILOLA JOSEPH                  8164077655   \n",
       "Falade Adeyinka.            falade.adeyinka@yahoo.com   \n",
       "ADUNDU SOLOMON TEMIDAYO    08087849758 / 09033911049.   \n",
       "IBRAHIM SAMINU MUHAMMED      08038096181, 08157984363   \n",
       "\n",
       "                                               E-mail  \n",
       "Name                                                   \n",
       "KEHINDE EXCEL OKE           akerejahkehinde@gmail.com  \n",
       "MASELUGBO DAMILOLA JOSEPH  damilolajoseph22@gmail.com  \n",
       "Falade Adeyinka.                                  NaN  \n",
       "ADUNDU SOLOMON TEMIDAYO      solomonadundu6@gmail.com  \n",
       "IBRAHIM SAMINU MUHAMMED      ibrahimsameen1@gmail.com  "
      ]
     },
     "execution_count": 35,
     "metadata": {},
     "output_type": "execute_result"
    }
   ],
   "source": [
    "Teach_df"
   ]
  },
  {
   "cell_type": "code",
   "execution_count": 36,
   "metadata": {},
   "outputs": [
    {
     "data": {
      "text/plain": [
       "Text(0.5, 1.0, 'Teaching staff applicants bar plot')"
      ]
     },
     "execution_count": 36,
     "metadata": {},
     "output_type": "execute_result"
    },
    {
     "data": {
      "image/png": "[encoded data removed]",
      "text/plain": [
       "<Figure size 1296x576 with 1 Axes>"
      ]
     },
     "metadata": {
      "needs_background": "light"
     },
     "output_type": "display_data"
    }
   ],
   "source": [
    "Teach_df.plot(kind = 'barh', figsize=(18,8), grid = True)\n",
    "plt.title('Teaching staff applicants bar plot')"
   ]
  },
  {
   "cell_type": "markdown",
   "metadata": {},
   "source": [
    "**Mathematics Teacher Post**"
   ]
  },
  {
   "cell_type": "code",
   "execution_count": 37,
   "metadata": {},
   "outputs": [
    {
     "data": {
      "text/html": [
       "<div>\n",
       "<style scoped>\n",
       "    .dataframe tbody tr th:only-of-type {\n",
       "        vertical-align: middle;\n",
       "    }\n",
       "\n",
       "    .dataframe tbody tr th {\n",
       "        vertical-align: top;\n",
       "    }\n",
       "\n",
       "    .dataframe thead th {\n",
       "        text-align: right;\n",
       "    }\n",
       "</style>\n",
       "<table border=\"1\" class=\"dataframe\">\n",
       "  <thead>\n",
       "    <tr style=\"text-align: right;\">\n",
       "      <th></th>\n",
       "      <th>Age</th>\n",
       "      <th>Gender</th>\n",
       "      <th>Office applied</th>\n",
       "      <th>A-qual</th>\n",
       "      <th>TED</th>\n",
       "      <th>A-qual-rank</th>\n",
       "      <th>loyalty-rank</th>\n",
       "      <th>Phone Number</th>\n",
       "      <th>E-mail</th>\n",
       "    </tr>\n",
       "    <tr>\n",
       "      <th>Name</th>\n",
       "      <th></th>\n",
       "      <th></th>\n",
       "      <th></th>\n",
       "      <th></th>\n",
       "      <th></th>\n",
       "      <th></th>\n",
       "      <th></th>\n",
       "      <th></th>\n",
       "      <th></th>\n",
       "    </tr>\n",
       "  </thead>\n",
       "  <tbody>\n",
       "    <tr>\n",
       "      <td>JOLOMI VICTOR JOSEPH</td>\n",
       "      <td>37</td>\n",
       "      <td>Male</td>\n",
       "      <td>Mathematics Teacher</td>\n",
       "      <td>B.Ed.</td>\n",
       "      <td>15.0</td>\n",
       "      <td>3.125</td>\n",
       "      <td>7.894737</td>\n",
       "      <td>08140906048; 08164288254.</td>\n",
       "      <td>profjjvictor2@gmail.com</td>\n",
       "    </tr>\n",
       "    <tr>\n",
       "      <td>VICTOR IKECHUKWU AZODO</td>\n",
       "      <td>33</td>\n",
       "      <td>Male</td>\n",
       "      <td>Mathematics Teacher</td>\n",
       "      <td>B.Sc.</td>\n",
       "      <td>11.0</td>\n",
       "      <td>1.875</td>\n",
       "      <td>9.166667</td>\n",
       "      <td>234-8165649947</td>\n",
       "      <td>daresmsn3537@gmail.com</td>\n",
       "    </tr>\n",
       "    <tr>\n",
       "      <td>MICHAEL EJIRO OSANIMU</td>\n",
       "      <td>26</td>\n",
       "      <td>Male</td>\n",
       "      <td>Mathematics Teacher</td>\n",
       "      <td>B.Sc.</td>\n",
       "      <td>2.0</td>\n",
       "      <td>1.875</td>\n",
       "      <td>5.000000</td>\n",
       "      <td>09034583956, 07080171358</td>\n",
       "      <td>cmiracle337@gmail.com</td>\n",
       "    </tr>\n",
       "    <tr>\n",
       "      <td>EMONEFE, JODARO</td>\n",
       "      <td>31</td>\n",
       "      <td>Male</td>\n",
       "      <td>Mathematics Teacher</td>\n",
       "      <td>B.Ed.</td>\n",
       "      <td>2.0</td>\n",
       "      <td>3.125</td>\n",
       "      <td>2.857143</td>\n",
       "      <td>08164010481; 07036435642.</td>\n",
       "      <td>emonefej@gmail.com</td>\n",
       "    </tr>\n",
       "    <tr>\n",
       "      <td>SUNDAY STANLEY IDUNG</td>\n",
       "      <td>23</td>\n",
       "      <td>Male</td>\n",
       "      <td>Mathematics Teacher</td>\n",
       "      <td>B.Sc.</td>\n",
       "      <td>0.0</td>\n",
       "      <td>1.875</td>\n",
       "      <td>5.000000</td>\n",
       "      <td>9039267685</td>\n",
       "      <td>sundaystanley56@gmail.com</td>\n",
       "    </tr>\n",
       "  </tbody>\n",
       "</table>\n",
       "</div>"
      ],
      "text/plain": [
       "                        Age Gender       Office applied A-qual   TED  \\\n",
       "Name                                                                   \n",
       "JOLOMI VICTOR JOSEPH     37   Male  Mathematics Teacher  B.Ed.  15.0   \n",
       "VICTOR IKECHUKWU AZODO   33   Male  Mathematics Teacher  B.Sc.  11.0   \n",
       "MICHAEL EJIRO OSANIMU    26   Male  Mathematics Teacher  B.Sc.   2.0   \n",
       "EMONEFE, JODARO          31   Male  Mathematics Teacher  B.Ed.   2.0   \n",
       "SUNDAY STANLEY IDUNG     23   Male  Mathematics Teacher  B.Sc.   0.0   \n",
       "\n",
       "                        A-qual-rank  loyalty-rank               Phone Number  \\\n",
       "Name                                                                           \n",
       "JOLOMI VICTOR JOSEPH          3.125      7.894737  08140906048; 08164288254.   \n",
       "VICTOR IKECHUKWU AZODO        1.875      9.166667             234-8165649947   \n",
       "MICHAEL EJIRO OSANIMU         1.875      5.000000   09034583956, 07080171358   \n",
       "EMONEFE, JODARO               3.125      2.857143  08164010481; 07036435642.   \n",
       "SUNDAY STANLEY IDUNG          1.875      5.000000                 9039267685   \n",
       "\n",
       "                                           E-mail  \n",
       "Name                                               \n",
       "JOLOMI VICTOR JOSEPH      profjjvictor2@gmail.com  \n",
       "VICTOR IKECHUKWU AZODO     daresmsn3537@gmail.com  \n",
       "MICHAEL EJIRO OSANIMU       cmiracle337@gmail.com  \n",
       "EMONEFE, JODARO                emonefej@gmail.com  \n",
       "SUNDAY STANLEY IDUNG    sundaystanley56@gmail.com  "
      ]
     },
     "execution_count": 37,
     "metadata": {},
     "output_type": "execute_result"
    }
   ],
   "source": [
    "Math_df"
   ]
  },
  {
   "cell_type": "code",
   "execution_count": 42,
   "metadata": {},
   "outputs": [
    {
     "data": {
      "text/plain": [
       "Text(0.5, 1.0, 'Mathematics teacher bar plot')"
      ]
     },
     "execution_count": 42,
     "metadata": {},
     "output_type": "execute_result"
    },
    {
     "data": {
      "image/png": "[encoded data removed]",
      "text/plain": [
       "<Figure size 1296x576 with 1 Axes>"
      ]
     },
     "metadata": {
      "needs_background": "light"
     },
     "output_type": "display_data"
    }
   ],
   "source": [
    "Math_df.plot(kind = 'barh', figsize=(18,8), grid = True)\n",
    "plt.title('Mathematics teacher bar plot')"
   ]
  },
  {
   "cell_type": "markdown",
   "metadata": {},
   "source": [
    "**Basic Science Post**"
   ]
  },
  {
   "cell_type": "code",
   "execution_count": 39,
   "metadata": {},
   "outputs": [
    {
     "data": {
      "text/html": [
       "<div>\n",
       "<style scoped>\n",
       "    .dataframe tbody tr th:only-of-type {\n",
       "        vertical-align: middle;\n",
       "    }\n",
       "\n",
       "    .dataframe tbody tr th {\n",
       "        vertical-align: top;\n",
       "    }\n",
       "\n",
       "    .dataframe thead th {\n",
       "        text-align: right;\n",
       "    }\n",
       "</style>\n",
       "<table border=\"1\" class=\"dataframe\">\n",
       "  <thead>\n",
       "    <tr style=\"text-align: right;\">\n",
       "      <th></th>\n",
       "      <th>Age</th>\n",
       "      <th>Gender</th>\n",
       "      <th>Office applied</th>\n",
       "      <th>A-qual</th>\n",
       "      <th>TED</th>\n",
       "      <th>A-qual-rank</th>\n",
       "      <th>loyalty-rank</th>\n",
       "      <th>Phone Number</th>\n",
       "      <th>E-mail</th>\n",
       "    </tr>\n",
       "    <tr>\n",
       "      <th>Name</th>\n",
       "      <th></th>\n",
       "      <th></th>\n",
       "      <th></th>\n",
       "      <th></th>\n",
       "      <th></th>\n",
       "      <th></th>\n",
       "      <th></th>\n",
       "      <th></th>\n",
       "      <th></th>\n",
       "    </tr>\n",
       "  </thead>\n",
       "  <tbody>\n",
       "    <tr>\n",
       "      <td>AROTIOWA ABIOLA GBENGA</td>\n",
       "      <td>35</td>\n",
       "      <td>Male</td>\n",
       "      <td>Basic Science Teacher</td>\n",
       "      <td>OND,HND,PGDE</td>\n",
       "      <td>10.0</td>\n",
       "      <td>4.375</td>\n",
       "      <td>6.666667</td>\n",
       "      <td>08066505270, 08079917913</td>\n",
       "      <td>Arotiowabiola2000@gmail.com</td>\n",
       "    </tr>\n",
       "    <tr>\n",
       "      <td>OGUNJOBI THOMAS OLUWAROTIMI</td>\n",
       "      <td>25</td>\n",
       "      <td>Male</td>\n",
       "      <td>Basic Science Teacher</td>\n",
       "      <td>B.Ed.</td>\n",
       "      <td>3.0</td>\n",
       "      <td>3.125</td>\n",
       "      <td>5.000000</td>\n",
       "      <td>08179618905, 08153046205</td>\n",
       "      <td>Ogunjobithomasrotimi@gmail.com</td>\n",
       "    </tr>\n",
       "    <tr>\n",
       "      <td>YINUSA BUSAYO PAUL</td>\n",
       "      <td>30</td>\n",
       "      <td>Male</td>\n",
       "      <td>Basic Science Teacher</td>\n",
       "      <td>OND,B.Ed.</td>\n",
       "      <td>2.0</td>\n",
       "      <td>3.750</td>\n",
       "      <td>3.333333</td>\n",
       "      <td>8162645927</td>\n",
       "      <td>paulbusayo@gmail.com,</td>\n",
       "    </tr>\n",
       "    <tr>\n",
       "      <td>ALAMU FEMI</td>\n",
       "      <td>37</td>\n",
       "      <td>Male</td>\n",
       "      <td>Basic Science Teacher</td>\n",
       "      <td>B.Ed.</td>\n",
       "      <td>NaN</td>\n",
       "      <td>3.125</td>\n",
       "      <td>5.000000</td>\n",
       "      <td>08054461115, 07033630347</td>\n",
       "      <td>NaN</td>\n",
       "    </tr>\n",
       "  </tbody>\n",
       "</table>\n",
       "</div>"
      ],
      "text/plain": [
       "                             Age Gender         Office applied        A-qual  \\\n",
       "Name                                                                           \n",
       "AROTIOWA ABIOLA GBENGA        35   Male  Basic Science Teacher  OND,HND,PGDE   \n",
       "OGUNJOBI THOMAS OLUWAROTIMI   25   Male  Basic Science Teacher         B.Ed.   \n",
       "YINUSA BUSAYO PAUL            30   Male  Basic Science Teacher     OND,B.Ed.   \n",
       "ALAMU FEMI                    37   Male  Basic Science Teacher         B.Ed.   \n",
       "\n",
       "                              TED  A-qual-rank  loyalty-rank  \\\n",
       "Name                                                           \n",
       "AROTIOWA ABIOLA GBENGA       10.0        4.375      6.666667   \n",
       "OGUNJOBI THOMAS OLUWAROTIMI   3.0        3.125      5.000000   \n",
       "YINUSA BUSAYO PAUL            2.0        3.750      3.333333   \n",
       "ALAMU FEMI                    NaN        3.125      5.000000   \n",
       "\n",
       "                                         Phone Number  \\\n",
       "Name                                                    \n",
       "AROTIOWA ABIOLA GBENGA       08066505270, 08079917913   \n",
       "OGUNJOBI THOMAS OLUWAROTIMI  08179618905, 08153046205   \n",
       "YINUSA BUSAYO PAUL                         8162645927   \n",
       "ALAMU FEMI                   08054461115, 07033630347   \n",
       "\n",
       "                                                     E-mail  \n",
       "Name                                                         \n",
       "AROTIOWA ABIOLA GBENGA          Arotiowabiola2000@gmail.com  \n",
       "OGUNJOBI THOMAS OLUWAROTIMI  Ogunjobithomasrotimi@gmail.com  \n",
       "YINUSA BUSAYO PAUL                    paulbusayo@gmail.com,  \n",
       "ALAMU FEMI                                              NaN  "
      ]
     },
     "execution_count": 39,
     "metadata": {},
     "output_type": "execute_result"
    }
   ],
   "source": [
    "basicsci_df"
   ]
  },
  {
   "cell_type": "code",
   "execution_count": 40,
   "metadata": {},
   "outputs": [
    {
     "data": {
      "text/plain": [
       "Text(0.5, 1.0, 'Basic Science bar plot')"
      ]
     },
     "execution_count": 40,
     "metadata": {},
     "output_type": "execute_result"
    },
    {
     "data": {
      "image/png": "[encoded data removed]",
      "text/plain": [
       "<Figure size 1296x504 with 1 Axes>"
      ]
     },
     "metadata": {
      "needs_background": "light"
     },
     "output_type": "display_data"
    }
   ],
   "source": [
    "basicsci_df.plot(kind = 'barh', figsize=(18,7), grid = True)\n",
    "plt.title('Basic Science bar plot')"
   ]
  },
  {
   "cell_type": "markdown",
   "metadata": {},
   "source": [
    "**Civic Education Teacher Post**"
   ]
  },
  {
   "cell_type": "code",
   "execution_count": 43,
   "metadata": {},
   "outputs": [
    {
     "data": {
      "text/html": [
       "<div>\n",
       "<style scoped>\n",
       "    .dataframe tbody tr th:only-of-type {\n",
       "        vertical-align: middle;\n",
       "    }\n",
       "\n",
       "    .dataframe tbody tr th {\n",
       "        vertical-align: top;\n",
       "    }\n",
       "\n",
       "    .dataframe thead th {\n",
       "        text-align: right;\n",
       "    }\n",
       "</style>\n",
       "<table border=\"1\" class=\"dataframe\">\n",
       "  <thead>\n",
       "    <tr style=\"text-align: right;\">\n",
       "      <th></th>\n",
       "      <th>Age</th>\n",
       "      <th>Gender</th>\n",
       "      <th>Office applied</th>\n",
       "      <th>A-qual</th>\n",
       "      <th>TED</th>\n",
       "      <th>A-qual-rank</th>\n",
       "      <th>loyalty-rank</th>\n",
       "      <th>Phone Number</th>\n",
       "      <th>E-mail</th>\n",
       "    </tr>\n",
       "    <tr>\n",
       "      <th>Name</th>\n",
       "      <th></th>\n",
       "      <th></th>\n",
       "      <th></th>\n",
       "      <th></th>\n",
       "      <th></th>\n",
       "      <th></th>\n",
       "      <th></th>\n",
       "      <th></th>\n",
       "      <th></th>\n",
       "    </tr>\n",
       "  </thead>\n",
       "  <tbody>\n",
       "    <tr>\n",
       "      <td>KEHINDE AYANDEJI SIMEON</td>\n",
       "      <td>32</td>\n",
       "      <td>Male</td>\n",
       "      <td>Civic Education Teacher</td>\n",
       "      <td>B.Ed.,NCE,Dip</td>\n",
       "      <td>6.0</td>\n",
       "      <td>4.375</td>\n",
       "      <td>8.571429</td>\n",
       "      <td>8066182853</td>\n",
       "      <td>kehindesimeon66@gmail.com</td>\n",
       "    </tr>\n",
       "    <tr>\n",
       "      <td>IDOWU ADAVIZE MOHAMMED</td>\n",
       "      <td>30</td>\n",
       "      <td>Male</td>\n",
       "      <td>Civic Education Teacher</td>\n",
       "      <td>NCE,B.Ed.</td>\n",
       "      <td>5.0</td>\n",
       "      <td>3.750</td>\n",
       "      <td>8.333333</td>\n",
       "      <td>08163485965 OR 07065047927</td>\n",
       "      <td>idowuadavize1@gmail.com</td>\n",
       "    </tr>\n",
       "    <tr>\n",
       "      <td>EJIOGU Dorcas Karina</td>\n",
       "      <td>35</td>\n",
       "      <td>Female</td>\n",
       "      <td>Civic Education Teacher</td>\n",
       "      <td>B.Sc.,M.Sc.,PGDE</td>\n",
       "      <td>5.0</td>\n",
       "      <td>6.250</td>\n",
       "      <td>8.333333</td>\n",
       "      <td>0803-367-5271</td>\n",
       "      <td>dorcasejiogu@yahoo.com</td>\n",
       "    </tr>\n",
       "    <tr>\n",
       "      <td>OJOKO OLUWAFEMI</td>\n",
       "      <td>0</td>\n",
       "      <td>Male</td>\n",
       "      <td>Civic Education Teacher</td>\n",
       "      <td>B.Sc.,PGDE</td>\n",
       "      <td>4.0</td>\n",
       "      <td>4.375</td>\n",
       "      <td>8.000000</td>\n",
       "      <td>7033607636</td>\n",
       "      <td>ojokofemi@gmail.com</td>\n",
       "    </tr>\n",
       "  </tbody>\n",
       "</table>\n",
       "</div>"
      ],
      "text/plain": [
       "                         Age  Gender           Office applied  \\\n",
       "Name                                                            \n",
       "KEHINDE AYANDEJI SIMEON   32    Male  Civic Education Teacher   \n",
       "IDOWU ADAVIZE MOHAMMED    30    Male  Civic Education Teacher   \n",
       "EJIOGU Dorcas Karina      35  Female  Civic Education Teacher   \n",
       "OJOKO OLUWAFEMI            0    Male  Civic Education Teacher   \n",
       "\n",
       "                                   A-qual  TED  A-qual-rank  loyalty-rank  \\\n",
       "Name                                                                        \n",
       "KEHINDE AYANDEJI SIMEON     B.Ed.,NCE,Dip  6.0        4.375      8.571429   \n",
       "IDOWU ADAVIZE MOHAMMED          NCE,B.Ed.  5.0        3.750      8.333333   \n",
       "EJIOGU Dorcas Karina     B.Sc.,M.Sc.,PGDE  5.0        6.250      8.333333   \n",
       "OJOKO OLUWAFEMI                B.Sc.,PGDE  4.0        4.375      8.000000   \n",
       "\n",
       "                                       Phone Number                     E-mail  \n",
       "Name                                                                            \n",
       "KEHINDE AYANDEJI SIMEON                  8066182853  kehindesimeon66@gmail.com  \n",
       "IDOWU ADAVIZE MOHAMMED   08163485965 OR 07065047927    idowuadavize1@gmail.com  \n",
       "EJIOGU Dorcas Karina                  0803-367-5271     dorcasejiogu@yahoo.com  \n",
       "OJOKO OLUWAFEMI                          7033607636        ojokofemi@gmail.com  "
      ]
     },
     "execution_count": 43,
     "metadata": {},
     "output_type": "execute_result"
    }
   ],
   "source": [
    "civic_df"
   ]
  },
  {
   "cell_type": "code",
   "execution_count": 44,
   "metadata": {},
   "outputs": [
    {
     "data": {
      "text/plain": [
       "Text(0.5, 1.0, 'Civic Education bar plot')"
      ]
     },
     "execution_count": 44,
     "metadata": {},
     "output_type": "execute_result"
    },
    {
     "data": {
      "image/png": "[encoded data removed]",
      "text/plain": [
       "<Figure size 1296x504 with 1 Axes>"
      ]
     },
     "metadata": {
      "needs_background": "light"
     },
     "output_type": "display_data"
    }
   ],
   "source": [
    "civic_df.plot(kind='barh', figsize = (18, 7), grid = True)\n",
    "plt.title('Civic Education bar plot')"
   ]
  },
  {
   "cell_type": "markdown",
   "metadata": {},
   "source": [
    "**English Language Teacher post**"
   ]
  },
  {
   "cell_type": "code",
   "execution_count": 45,
   "metadata": {},
   "outputs": [
    {
     "data": {
      "text/html": [
       "<div>\n",
       "<style scoped>\n",
       "    .dataframe tbody tr th:only-of-type {\n",
       "        vertical-align: middle;\n",
       "    }\n",
       "\n",
       "    .dataframe tbody tr th {\n",
       "        vertical-align: top;\n",
       "    }\n",
       "\n",
       "    .dataframe thead th {\n",
       "        text-align: right;\n",
       "    }\n",
       "</style>\n",
       "<table border=\"1\" class=\"dataframe\">\n",
       "  <thead>\n",
       "    <tr style=\"text-align: right;\">\n",
       "      <th></th>\n",
       "      <th>Age</th>\n",
       "      <th>Gender</th>\n",
       "      <th>Office applied</th>\n",
       "      <th>A-qual</th>\n",
       "      <th>TED</th>\n",
       "      <th>A-qual-rank</th>\n",
       "      <th>loyalty-rank</th>\n",
       "      <th>Phone Number</th>\n",
       "      <th>E-mail</th>\n",
       "    </tr>\n",
       "    <tr>\n",
       "      <th>Name</th>\n",
       "      <th></th>\n",
       "      <th></th>\n",
       "      <th></th>\n",
       "      <th></th>\n",
       "      <th></th>\n",
       "      <th></th>\n",
       "      <th></th>\n",
       "      <th></th>\n",
       "      <th></th>\n",
       "    </tr>\n",
       "  </thead>\n",
       "  <tbody>\n",
       "    <tr>\n",
       "      <td>ADELAKUN ADEOLA ABIODUN</td>\n",
       "      <td>41</td>\n",
       "      <td>Male</td>\n",
       "      <td>English Language Teacher</td>\n",
       "      <td>M.A,B.Ed.</td>\n",
       "      <td>10.0</td>\n",
       "      <td>5.000</td>\n",
       "      <td>9.090909</td>\n",
       "      <td>07032737483, 09090563329</td>\n",
       "      <td>adeolakun371@gmail.com</td>\n",
       "    </tr>\n",
       "    <tr>\n",
       "      <td>John-mba Roselyn ijeoma</td>\n",
       "      <td>32</td>\n",
       "      <td>Female</td>\n",
       "      <td>English Language Teacher</td>\n",
       "      <td>B.Ed.,NCE</td>\n",
       "      <td>8.0</td>\n",
       "      <td>3.750</td>\n",
       "      <td>8.000000</td>\n",
       "      <td>08030617048, 08063411090</td>\n",
       "      <td>roselynjohn1990@gmail.com</td>\n",
       "    </tr>\n",
       "    <tr>\n",
       "      <td>FREEMAN KORKARA, KOBO</td>\n",
       "      <td>31</td>\n",
       "      <td>Male</td>\n",
       "      <td>English Language Teacher</td>\n",
       "      <td>B.A</td>\n",
       "      <td>6.0</td>\n",
       "      <td>1.875</td>\n",
       "      <td>4.615385</td>\n",
       "      <td>08116205854, 08174611446.</td>\n",
       "      <td>proffreemankorkara@gmail.com, and proffreemank...</td>\n",
       "    </tr>\n",
       "  </tbody>\n",
       "</table>\n",
       "</div>"
      ],
      "text/plain": [
       "                         Age  Gender            Office applied     A-qual  \\\n",
       "Name                                                                        \n",
       "ADELAKUN ADEOLA ABIODUN   41    Male  English Language Teacher  M.A,B.Ed.   \n",
       "John-mba Roselyn ijeoma   32  Female  English Language Teacher  B.Ed.,NCE   \n",
       "FREEMAN KORKARA, KOBO     31    Male  English Language Teacher        B.A   \n",
       "\n",
       "                          TED  A-qual-rank  loyalty-rank  \\\n",
       "Name                                                       \n",
       "ADELAKUN ADEOLA ABIODUN  10.0        5.000      9.090909   \n",
       "John-mba Roselyn ijeoma   8.0        3.750      8.000000   \n",
       "FREEMAN KORKARA, KOBO     6.0        1.875      4.615385   \n",
       "\n",
       "                                      Phone Number  \\\n",
       "Name                                                 \n",
       "ADELAKUN ADEOLA ABIODUN   07032737483, 09090563329   \n",
       "John-mba Roselyn ijeoma   08030617048, 08063411090   \n",
       "FREEMAN KORKARA, KOBO    08116205854, 08174611446.   \n",
       "\n",
       "                                                                    E-mail  \n",
       "Name                                                                        \n",
       "ADELAKUN ADEOLA ABIODUN                             adeolakun371@gmail.com  \n",
       "John-mba Roselyn ijeoma                          roselynjohn1990@gmail.com  \n",
       "FREEMAN KORKARA, KOBO    proffreemankorkara@gmail.com, and proffreemank...  "
      ]
     },
     "execution_count": 45,
     "metadata": {},
     "output_type": "execute_result"
    }
   ],
   "source": [
    "english_df"
   ]
  },
  {
   "cell_type": "code",
   "execution_count": 46,
   "metadata": {},
   "outputs": [
    {
     "data": {
      "text/plain": [
       "Text(0.5, 1.0, 'English Language Teacher bar plot')"
      ]
     },
     "execution_count": 46,
     "metadata": {},
     "output_type": "execute_result"
    },
    {
     "data": {
      "image/png": "[encoded data removed]",
      "text/plain": [
       "<Figure size 1296x360 with 1 Axes>"
      ]
     },
     "metadata": {
      "needs_background": "light"
     },
     "output_type": "display_data"
    }
   ],
   "source": [
    "english_df.plot(kind = 'barh', figsize=(18,5), grid = True)\n",
    "plt.title('English Language Teacher bar plot')"
   ]
  },
  {
   "cell_type": "markdown",
   "metadata": {},
   "source": [
    "This notebook was created by Ifeakor Nnaemeka Praise, an aspiring data scientist."
   ]
  },
  {
   "cell_type": "code",
   "execution_count": null,
   "metadata": {},
   "outputs": [],
   "source": []
  }
 ],
 "metadata": {
  "kernelspec": {
   "display_name": "Python 3",
   "language": "python",
   "name": "python3"
  },
  "language_info": {
   "codemirror_mode": {
    "name": "ipython",
    "version": 3
   },
   "file_extension": ".py",
   "mimetype": "text/x-python",
   "name": "python",
   "nbconvert_exporter": "python",
   "pygments_lexer": "ipython3",
   "version": "3.7.4"
  }
 },
 "nbformat": 4,
 "nbformat_minor": 4
}
