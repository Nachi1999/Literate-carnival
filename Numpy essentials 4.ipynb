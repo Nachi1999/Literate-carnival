{
 "cells": [
  {
   "cell_type": "markdown",
   "metadata": {},
   "source": [
    "**STATISTICAL & MATHEMATICAL PROCESSING OF ARRAYS**"
   ]
  },
  {
   "cell_type": "code",
   "execution_count": 1,
   "metadata": {},
   "outputs": [
    {
     "name": "stdout",
     "output_type": "stream",
     "text": [
      "Requirement already satisfied: matplotlib in c:\\users\\nachi\\anaconda3\\lib\\site-packages (3.1.1)\n",
      "Requirement already satisfied: cycler>=0.10 in c:\\users\\nachi\\anaconda3\\lib\\site-packages (from matplotlib) (0.10.0)\n",
      "Requirement already satisfied: kiwisolver>=1.0.1 in c:\\users\\nachi\\anaconda3\\lib\\site-packages (from matplotlib) (1.1.0)\n",
      "Requirement already satisfied: pyparsing!=2.0.4,!=2.1.2,!=2.1.6,>=2.0.1 in c:\\users\\nachi\\anaconda3\\lib\\site-packages (from matplotlib) (2.4.2)\n",
      "Requirement already satisfied: python-dateutil>=2.1 in c:\\users\\nachi\\anaconda3\\lib\\site-packages (from matplotlib) (2.8.0)\n",
      "Requirement already satisfied: numpy>=1.11 in c:\\users\\nachi\\anaconda3\\lib\\site-packages (from matplotlib) (1.16.5)\n",
      "Requirement already satisfied: six in c:\\users\\nachi\\anaconda3\\lib\\site-packages (from cycler>=0.10->matplotlib) (1.12.0)\n",
      "Requirement already satisfied: setuptools in c:\\users\\nachi\\anaconda3\\lib\\site-packages (from kiwisolver>=1.0.1->matplotlib) (41.4.0)\n"
     ]
    }
   ],
   "source": [
    "import numpy as np\n",
    "!pip install matplotlib\n"
   ]
  },
  {
   "cell_type": "code",
   "execution_count": 2,
   "metadata": {},
   "outputs": [],
   "source": [
    "import matplotlib.pyplot as plt\n",
    "axes = np.arange(-100, 100, 10)\n",
    "dx, dy = np.meshgrid(axes, axes) #to group the values representing the x and y coordinates of all the points"
   ]
  },
  {
   "cell_type": "code",
   "execution_count": 3,
   "metadata": {},
   "outputs": [
    {
     "name": "stdout",
     "output_type": "stream",
     "text": [
      "[[-100  -90  -80  -70  -60  -50  -40  -30  -20  -10    0   10   20   30\n",
      "    40   50   60   70   80   90]\n",
      " [-100  -90  -80  -70  -60  -50  -40  -30  -20  -10    0   10   20   30\n",
      "    40   50   60   70   80   90]\n",
      " [-100  -90  -80  -70  -60  -50  -40  -30  -20  -10    0   10   20   30\n",
      "    40   50   60   70   80   90]\n",
      " [-100  -90  -80  -70  -60  -50  -40  -30  -20  -10    0   10   20   30\n",
      "    40   50   60   70   80   90]\n",
      " [-100  -90  -80  -70  -60  -50  -40  -30  -20  -10    0   10   20   30\n",
      "    40   50   60   70   80   90]\n",
      " [-100  -90  -80  -70  -60  -50  -40  -30  -20  -10    0   10   20   30\n",
      "    40   50   60   70   80   90]\n",
      " [-100  -90  -80  -70  -60  -50  -40  -30  -20  -10    0   10   20   30\n",
      "    40   50   60   70   80   90]\n",
      " [-100  -90  -80  -70  -60  -50  -40  -30  -20  -10    0   10   20   30\n",
      "    40   50   60   70   80   90]\n",
      " [-100  -90  -80  -70  -60  -50  -40  -30  -20  -10    0   10   20   30\n",
      "    40   50   60   70   80   90]\n",
      " [-100  -90  -80  -70  -60  -50  -40  -30  -20  -10    0   10   20   30\n",
      "    40   50   60   70   80   90]\n",
      " [-100  -90  -80  -70  -60  -50  -40  -30  -20  -10    0   10   20   30\n",
      "    40   50   60   70   80   90]\n",
      " [-100  -90  -80  -70  -60  -50  -40  -30  -20  -10    0   10   20   30\n",
      "    40   50   60   70   80   90]\n",
      " [-100  -90  -80  -70  -60  -50  -40  -30  -20  -10    0   10   20   30\n",
      "    40   50   60   70   80   90]\n",
      " [-100  -90  -80  -70  -60  -50  -40  -30  -20  -10    0   10   20   30\n",
      "    40   50   60   70   80   90]\n",
      " [-100  -90  -80  -70  -60  -50  -40  -30  -20  -10    0   10   20   30\n",
      "    40   50   60   70   80   90]\n",
      " [-100  -90  -80  -70  -60  -50  -40  -30  -20  -10    0   10   20   30\n",
      "    40   50   60   70   80   90]\n",
      " [-100  -90  -80  -70  -60  -50  -40  -30  -20  -10    0   10   20   30\n",
      "    40   50   60   70   80   90]\n",
      " [-100  -90  -80  -70  -60  -50  -40  -30  -20  -10    0   10   20   30\n",
      "    40   50   60   70   80   90]\n",
      " [-100  -90  -80  -70  -60  -50  -40  -30  -20  -10    0   10   20   30\n",
      "    40   50   60   70   80   90]\n",
      " [-100  -90  -80  -70  -60  -50  -40  -30  -20  -10    0   10   20   30\n",
      "    40   50   60   70   80   90]] [[-100 -100 -100 -100 -100 -100 -100 -100 -100 -100 -100 -100 -100 -100\n",
      "  -100 -100 -100 -100 -100 -100]\n",
      " [ -90  -90  -90  -90  -90  -90  -90  -90  -90  -90  -90  -90  -90  -90\n",
      "   -90  -90  -90  -90  -90  -90]\n",
      " [ -80  -80  -80  -80  -80  -80  -80  -80  -80  -80  -80  -80  -80  -80\n",
      "   -80  -80  -80  -80  -80  -80]\n",
      " [ -70  -70  -70  -70  -70  -70  -70  -70  -70  -70  -70  -70  -70  -70\n",
      "   -70  -70  -70  -70  -70  -70]\n",
      " [ -60  -60  -60  -60  -60  -60  -60  -60  -60  -60  -60  -60  -60  -60\n",
      "   -60  -60  -60  -60  -60  -60]\n",
      " [ -50  -50  -50  -50  -50  -50  -50  -50  -50  -50  -50  -50  -50  -50\n",
      "   -50  -50  -50  -50  -50  -50]\n",
      " [ -40  -40  -40  -40  -40  -40  -40  -40  -40  -40  -40  -40  -40  -40\n",
      "   -40  -40  -40  -40  -40  -40]\n",
      " [ -30  -30  -30  -30  -30  -30  -30  -30  -30  -30  -30  -30  -30  -30\n",
      "   -30  -30  -30  -30  -30  -30]\n",
      " [ -20  -20  -20  -20  -20  -20  -20  -20  -20  -20  -20  -20  -20  -20\n",
      "   -20  -20  -20  -20  -20  -20]\n",
      " [ -10  -10  -10  -10  -10  -10  -10  -10  -10  -10  -10  -10  -10  -10\n",
      "   -10  -10  -10  -10  -10  -10]\n",
      " [   0    0    0    0    0    0    0    0    0    0    0    0    0    0\n",
      "     0    0    0    0    0    0]\n",
      " [  10   10   10   10   10   10   10   10   10   10   10   10   10   10\n",
      "    10   10   10   10   10   10]\n",
      " [  20   20   20   20   20   20   20   20   20   20   20   20   20   20\n",
      "    20   20   20   20   20   20]\n",
      " [  30   30   30   30   30   30   30   30   30   30   30   30   30   30\n",
      "    30   30   30   30   30   30]\n",
      " [  40   40   40   40   40   40   40   40   40   40   40   40   40   40\n",
      "    40   40   40   40   40   40]\n",
      " [  50   50   50   50   50   50   50   50   50   50   50   50   50   50\n",
      "    50   50   50   50   50   50]\n",
      " [  60   60   60   60   60   60   60   60   60   60   60   60   60   60\n",
      "    60   60   60   60   60   60]\n",
      " [  70   70   70   70   70   70   70   70   70   70   70   70   70   70\n",
      "    70   70   70   70   70   70]\n",
      " [  80   80   80   80   80   80   80   80   80   80   80   80   80   80\n",
      "    80   80   80   80   80   80]\n",
      " [  90   90   90   90   90   90   90   90   90   90   90   90   90   90\n",
      "    90   90   90   90   90   90]]\n"
     ]
    }
   ],
   "source": [
    "print(dx, dy)"
   ]
  },
  {
   "cell_type": "code",
   "execution_count": 4,
   "metadata": {},
   "outputs": [
    {
     "data": {
      "text/plain": [
       "<matplotlib.colorbar.Colorbar at 0x1d5e5228648>"
      ]
     },
     "execution_count": 4,
     "metadata": {},
     "output_type": "execute_result"
    },
    {
     "data": {
      "image/png": "[encoded data removed]",
      "text/plain": [
       "<Figure size 432x288 with 2 Axes>"
      ]
     },
     "metadata": {
      "needs_background": "light"
     },
     "output_type": "display_data"
    }
   ],
   "source": [
    "#plotting a function\n",
    "function = 2*dx + 3*dy\n",
    "plt.title('plot of function')\n",
    "plt.imshow(function)\n",
    "plt.colorbar()"
   ]
  },
  {
   "cell_type": "code",
   "execution_count": 5,
   "metadata": {},
   "outputs": [
    {
     "data": {
      "text/plain": [
       "<Figure size 432x288 with 0 Axes>"
      ]
     },
     "metadata": {},
     "output_type": "display_data"
    }
   ],
   "source": [
    "plt.savefig('img.png')"
   ]
  },
  {
   "cell_type": "code",
   "execution_count": 6,
   "metadata": {},
   "outputs": [
    {
     "data": {
      "text/plain": [
       "<matplotlib.colorbar.Colorbar at 0x1d5e83f18c8>"
      ]
     },
     "execution_count": 6,
     "metadata": {},
     "output_type": "execute_result"
    },
    {
     "data": {
      "image/png": "[encoded data removed]",
      "text/plain": [
       "<Figure size 432x288 with 2 Axes>"
      ]
     },
     "metadata": {
      "needs_background": "light"
     },
     "output_type": "display_data"
    }
   ],
   "source": [
    "function2 = np.cos(dx) + np.cos(dy)\n",
    "plt.imshow(function2)\n",
    "plt.title('plot of function 2')\n",
    "plt.colorbar()"
   ]
  },
  {
   "cell_type": "markdown",
   "metadata": {},
   "source": [
    "**CONDITIONAL STATEMENTS AND BOOLEAN OPERATION WITH NUMPY**"
   ]
  },
  {
   "cell_type": "code",
   "execution_count": 7,
   "metadata": {},
   "outputs": [
    {
     "data": {
      "text/plain": [
       "array([100, 200,  30,  40])"
      ]
     },
     "execution_count": 7,
     "metadata": {},
     "output_type": "execute_result"
    }
   ],
   "source": [
    "x = np.array([100, 200, 300, 400])\n",
    "y = np.array([10, 20, 30, 40])\n",
    "condition = np.array([True, True, False, False]) #np.where(conditon, value for yes, value for no)\n",
    "\n",
    "a = np.where(condition, x, y)\n",
    "a"
   ]
  },
  {
   "cell_type": "code",
   "execution_count": 8,
   "metadata": {},
   "outputs": [
    {
     "data": {
      "text/plain": [
       "array([40, 40, 40, 40])"
      ]
     },
     "execution_count": 8,
     "metadata": {},
     "output_type": "execute_result"
    }
   ],
   "source": [
    "b = np.where(x>0, 40, 1)\n",
    "b"
   ]
  },
  {
   "cell_type": "code",
   "execution_count": 9,
   "metadata": {},
   "outputs": [
    {
     "data": {
      "text/plain": [
       "1000"
      ]
     },
     "execution_count": 9,
     "metadata": {},
     "output_type": "execute_result"
    }
   ],
   "source": [
    "#To sum up\n",
    "x.sum(0)"
   ]
  },
  {
   "cell_type": "code",
   "execution_count": 10,
   "metadata": {},
   "outputs": [
    {
     "data": {
      "text/plain": [
       "array([3, 7])"
      ]
     },
     "execution_count": 10,
     "metadata": {},
     "output_type": "execute_result"
    }
   ],
   "source": [
    "l = np.array([[1, 2], [3,4]])\n",
    "l.sum(1) #0 represents sum of column rows, 1 represents the sum of row columns"
   ]
  },
  {
   "cell_type": "code",
   "execution_count": 11,
   "metadata": {},
   "outputs": [
    {
     "data": {
      "text/plain": [
       "111.80339887498948"
      ]
     },
     "execution_count": 11,
     "metadata": {},
     "output_type": "execute_result"
    }
   ],
   "source": [
    "x.std() #standard deviation"
   ]
  },
  {
   "cell_type": "code",
   "execution_count": 12,
   "metadata": {},
   "outputs": [
    {
     "data": {
      "text/plain": [
       "250.0"
      ]
     },
     "execution_count": 12,
     "metadata": {},
     "output_type": "execute_result"
    }
   ],
   "source": [
    "x.mean() #mean()"
   ]
  },
  {
   "cell_type": "code",
   "execution_count": 13,
   "metadata": {},
   "outputs": [
    {
     "data": {
      "text/plain": [
       "12500.0"
      ]
     },
     "execution_count": 13,
     "metadata": {},
     "output_type": "execute_result"
    }
   ],
   "source": [
    "x.var() #variance"
   ]
  },
  {
   "cell_type": "code",
   "execution_count": 14,
   "metadata": {},
   "outputs": [
    {
     "data": {
      "text/plain": [
       "array([1, 3, 4, 5, 7])"
      ]
     },
     "execution_count": 14,
     "metadata": {},
     "output_type": "execute_result"
    }
   ],
   "source": [
    "#for sorting in numpy:\n",
    "unsorted_array = np.array([1,4,3,5,7])\n",
    "unsorted_array.sort()\n",
    "unsorted_array"
   ]
  },
  {
   "cell_type": "code",
   "execution_count": 15,
   "metadata": {},
   "outputs": [
    {
     "data": {
      "text/plain": [
       "True"
      ]
     },
     "execution_count": 15,
     "metadata": {},
     "output_type": "execute_result"
    }
   ],
   "source": [
    "#for logical operations in numpy\n",
    "cond = np.array([True, False, True])\n",
    "cond.any() #or operator"
   ]
  },
  {
   "cell_type": "code",
   "execution_count": 16,
   "metadata": {},
   "outputs": [
    {
     "data": {
      "text/plain": [
       "False"
      ]
     },
     "execution_count": 16,
     "metadata": {},
     "output_type": "execute_result"
    }
   ],
   "source": [
    "cond.all() #and operator"
   ]
  },
  {
   "cell_type": "code",
   "execution_count": 17,
   "metadata": {},
   "outputs": [
    {
     "name": "stdout",
     "output_type": "stream",
     "text": [
      "['solid' 'solid' 'solid' 'liquid' 'liquid' 'gas']\n"
     ]
    }
   ],
   "source": [
    "arr2 = np.array(['solid','solid','solid','liquid','liquid','gas'])\n",
    "print(arr2)"
   ]
  },
  {
   "cell_type": "code",
   "execution_count": 18,
   "metadata": {},
   "outputs": [
    {
     "data": {
      "text/plain": [
       "array(['gas', 'liquid', 'solid'], dtype='<U6')"
      ]
     },
     "execution_count": 18,
     "metadata": {},
     "output_type": "execute_result"
    }
   ],
   "source": [
    "np.unique(arr2) #for unique values in an array"
   ]
  },
  {
   "cell_type": "code",
   "execution_count": 19,
   "metadata": {},
   "outputs": [
    {
     "data": {
      "text/plain": [
       "array([ True,  True, False])"
      ]
     },
     "execution_count": 19,
     "metadata": {},
     "output_type": "execute_result"
    }
   ],
   "source": [
    "np.in1d(['solid','liquid','plasma'], arr2) #Returns an array of true or false, if the listed argument is present\n",
    "#in the array"
   ]
  },
  {
   "cell_type": "code",
   "execution_count": null,
   "metadata": {},
   "outputs": [],
   "source": []
  }
 ],
 "metadata": {
  "kernelspec": {
   "display_name": "Python 3",
   "language": "python",
   "name": "python3"
  },
  "language_info": {
   "codemirror_mode": {
    "name": "ipython",
    "version": 3
   },
   "file_extension": ".py",
   "mimetype": "text/x-python",
   "name": "python",
   "nbconvert_exporter": "python",
   "pygments_lexer": "ipython3",
   "version": "3.7.4"
  }
 },
 "nbformat": 4,
 "nbformat_minor": 4
}
