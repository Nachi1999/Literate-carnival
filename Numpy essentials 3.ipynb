{
 "cells": [
  {
   "cell_type": "markdown",
   "metadata": {},
   "source": [
    "**UNIVERSAL ARRAY FUNCTIONS**\n",
    "1. arange\n",
    "2. sqrt\n",
    "3. exp\n",
    "4. random\n",
    "5. addition\n",
    "6. maximum"
   ]
  },
  {
   "cell_type": "code",
   "execution_count": 1,
   "metadata": {},
   "outputs": [],
   "source": [
    "import numpy as np"
   ]
  },
  {
   "cell_type": "code",
   "execution_count": 2,
   "metadata": {},
   "outputs": [
    {
     "data": {
      "text/plain": [
       "array([ 2,  5,  8, 11, 14])"
      ]
     },
     "execution_count": 2,
     "metadata": {},
     "output_type": "execute_result"
    }
   ],
   "source": [
    "#For arange\n",
    "np.arange(2, 15, 3)"
   ]
  },
  {
   "cell_type": "code",
   "execution_count": 3,
   "metadata": {},
   "outputs": [
    {
     "name": "stdout",
     "output_type": "stream",
     "text": [
      "[ 1  4  7 10 13 16 19 22 25] \n",
      " [1.         2.         2.64575131 3.16227766 3.60555128 4.\n",
      " 4.35889894 4.69041576 5.        ]\n"
     ]
    }
   ],
   "source": [
    "#for sqrt,  you can find the square root of all the elements in array\n",
    "qq = np.arange(1, 27, 3)\n",
    "pp = np.sqrt(qq)\n",
    "print(qq, '\\n', pp)"
   ]
  },
  {
   "cell_type": "code",
   "execution_count": 4,
   "metadata": {},
   "outputs": [
    {
     "data": {
      "text/plain": [
       "array([2.71828183e+00, 5.45981500e+01, 1.09663316e+03, 2.20264658e+04,\n",
       "       4.42413392e+05, 8.88611052e+06, 1.78482301e+08, 3.58491285e+09,\n",
       "       7.20048993e+10])"
      ]
     },
     "execution_count": 4,
     "metadata": {},
     "output_type": "execute_result"
    }
   ],
   "source": [
    "#for the exp function, it finds the exponent of each array element.\n",
    "a = np.exp(qq)\n",
    "a"
   ]
  },
  {
   "cell_type": "code",
   "execution_count": 5,
   "metadata": {},
   "outputs": [
    {
     "data": {
      "text/plain": [
       "array([ 2.        ,  6.        ,  9.64575131, 13.16227766, 16.60555128,\n",
       "       20.        , 23.35889894, 26.69041576, 30.        ])"
      ]
     },
     "execution_count": 5,
     "metadata": {},
     "output_type": "execute_result"
    }
   ],
   "source": [
    "#for the add function, it has two arguments. It adds the two arrays together into one array\n",
    "b = np.add(qq, pp)\n",
    "b"
   ]
  },
  {
   "cell_type": "code",
   "execution_count": 6,
   "metadata": {},
   "outputs": [
    {
     "data": {
      "text/plain": [
       "array([ 1.,  4.,  7., 10., 13., 16., 19., 22., 25.])"
      ]
     },
     "execution_count": 6,
     "metadata": {},
     "output_type": "execute_result"
    }
   ],
   "source": [
    "#for the maximum function, it has two arguments. it compares the array elements in each variable. The bigger one is \n",
    "#added to a new array and the process continues for corresponding elements.\n",
    "d = np.maximum(qq,pp)\n",
    "d"
   ]
  },
  {
   "cell_type": "markdown",
   "metadata": {},
   "source": [
    "**LOADING AND SAVING ARRAYS IN PROJECT FILES**"
   ]
  },
  {
   "cell_type": "code",
   "execution_count": 7,
   "metadata": {},
   "outputs": [
    {
     "data": {
      "text/plain": [
       "array([ 0,  1,  2,  3,  4,  5,  6,  7,  8,  9, 10, 11, 12, 13])"
      ]
     },
     "execution_count": 7,
     "metadata": {},
     "output_type": "execute_result"
    }
   ],
   "source": [
    "arr = np.arange(14)\n",
    "arr"
   ]
  },
  {
   "cell_type": "code",
   "execution_count": 8,
   "metadata": {},
   "outputs": [],
   "source": [
    "#to save single arrays:\n",
    "np.save('Saved', arr)"
   ]
  },
  {
   "cell_type": "code",
   "execution_count": 9,
   "metadata": {},
   "outputs": [
    {
     "data": {
      "text/plain": [
       "array([ 0,  1,  2,  3,  4,  5,  6,  7,  8,  9, 10, 11, 12, 13])"
      ]
     },
     "execution_count": 9,
     "metadata": {},
     "output_type": "execute_result"
    }
   ],
   "source": [
    "load = np.load('Saved.npy')\n",
    "load"
   ]
  },
  {
   "cell_type": "code",
   "execution_count": 10,
   "metadata": {},
   "outputs": [],
   "source": [
    "#to save multiple arrays, you zip the file using savez instead of save and the file extension is npz instead of npy\n",
    "brr = np.arange(20)\n",
    "np.savez('saved.npz',  x = arr, y =  brr)"
   ]
  },
  {
   "cell_type": "code",
   "execution_count": 11,
   "metadata": {},
   "outputs": [
    {
     "data": {
      "text/plain": [
       "array([ 0,  1,  2,  3,  4,  5,  6,  7,  8,  9, 10, 11, 12, 13])"
      ]
     },
     "execution_count": 11,
     "metadata": {},
     "output_type": "execute_result"
    }
   ],
   "source": [
    "#Let's load the file, \n",
    "load_file = np.load('saved.npz')\n",
    "\n",
    "#to print out the file, you have to specify the array because it is saving multiple arrays\n",
    "load_file['x']"
   ]
  },
  {
   "cell_type": "markdown",
   "metadata": {},
   "source": [
    "Do note that these arrays cannot be loaded with any text editor or software apart from python software. To be able to load the file with notepad or a text editor, you will have to save it in a txt file."
   ]
  },
  {
   "cell_type": "code",
   "execution_count": 12,
   "metadata": {},
   "outputs": [
    {
     "data": {
      "text/plain": [
       "array([ 0.,  1.,  2.,  3.,  4.,  5.,  6.,  7.,  8.,  9., 10., 11., 12.,\n",
       "       13.])"
      ]
     },
     "execution_count": 12,
     "metadata": {},
     "output_type": "execute_result"
    }
   ],
   "source": [
    "np.savetxt('note.txt', arr, delimiter = ',')\n",
    "load_file_txt = np.loadtxt('note.txt', delimiter = ',')\n",
    "load_file_txt"
   ]
  },
  {
   "cell_type": "markdown",
   "metadata": {},
   "source": [
    "Note that the output is in float format. This is the default settings of saving in txt format."
   ]
  },
  {
   "cell_type": "code",
   "execution_count": 13,
   "metadata": {},
   "outputs": [
    {
     "data": {
      "text/plain": [
       "array([ 0,  1,  2,  3,  4,  5,  6,  7,  8,  9, 10, 11, 12, 13, 14, 15, 16,\n",
       "       17, 18, 19])"
      ]
     },
     "execution_count": 13,
     "metadata": {},
     "output_type": "execute_result"
    }
   ],
   "source": [
    "#another example\n",
    "array_1 = np.arange(20)\n",
    "array_2 = np.arange(10, 40, 4)\n",
    "array_3 = np.arange(7)\n",
    "\n",
    "#saving and loading one array file\n",
    "first_file = np.save('first', array_1)\n",
    "load_first = np.load('first.npy')\n",
    "load_first"
   ]
  },
  {
   "cell_type": "code",
   "execution_count": 14,
   "metadata": {},
   "outputs": [
    {
     "data": {
      "text/plain": [
       "array([10, 14, 18, 22, 26, 30, 34, 38])"
      ]
     },
     "execution_count": 14,
     "metadata": {},
     "output_type": "execute_result"
    }
   ],
   "source": [
    "#saving and loading multiple array files, we use the zip format\n",
    "second_file = np.savez('second.npz', a = array_1, b = array_2, c = array_3)\n",
    "load_second_file = np.load('second.npz')\n",
    "load_second_file['b']"
   ]
  },
  {
   "cell_type": "code",
   "execution_count": 15,
   "metadata": {},
   "outputs": [
    {
     "data": {
      "text/plain": [
       "array([0., 1., 2., 3., 4., 5., 6.])"
      ]
     },
     "execution_count": 15,
     "metadata": {},
     "output_type": "execute_result"
    }
   ],
   "source": [
    "#saving in txt format\n",
    "third_file = np.savetxt('third.txt', array_3, delimiter = ',')\n",
    "load_third = np.loadtxt('third.txt', delimiter = ',')\n",
    "load_third"
   ]
  },
  {
   "cell_type": "code",
   "execution_count": null,
   "metadata": {},
   "outputs": [],
   "source": []
  }
 ],
 "metadata": {
  "kernelspec": {
   "display_name": "Python 3",
   "language": "python",
   "name": "python3"
  },
  "language_info": {
   "codemirror_mode": {
    "name": "ipython",
    "version": 3
   },
   "file_extension": ".py",
   "mimetype": "text/x-python",
   "name": "python",
   "nbconvert_exporter": "python",
   "pygments_lexer": "ipython3",
   "version": "3.7.4"
  }
 },
 "nbformat": 4,
 "nbformat_minor": 4
}
